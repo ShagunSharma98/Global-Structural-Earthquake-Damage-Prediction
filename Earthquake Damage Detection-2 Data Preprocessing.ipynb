{
 "cells": [
  {
   "cell_type": "markdown",
   "metadata": {},
   "source": [
    "## Earthquake Damage Prediction (Using real earthquake Data with varying 'g')\n",
    "## Data Preprocessing"
   ]
  },
  {
   "cell_type": "code",
   "execution_count": 1,
   "metadata": {},
   "outputs": [],
   "source": [
    "import numpy as n\n",
    "import pandas as p\n",
    "import glob"
   ]
  },
  {
   "cell_type": "code",
   "execution_count": 27,
   "metadata": {},
   "outputs": [],
   "source": [
    "cols_1=n.concatenate([n.arange(178),n.arange(179,285),n.arange(286,332),n.arange(333,440)],axis=0)\n",
    "missing_joints=['Joint179','Joint286','Joint333']"
   ]
  },
  {
   "cell_type": "code",
   "execution_count": null,
   "metadata": {},
   "outputs": [],
   "source": [
    "# To clear a dictionary:\n",
    "#     1. for key in dict.keys():\n",
    "#             del dict[key]   , just like removing from memory\n",
    "#     2. dict.clear()"
   ]
  },
  {
   "cell_type": "markdown",
   "metadata": {},
   "source": [
    "### Next 'Path' cell is to be updated by User:"
   ]
  },
  {
   "cell_type": "code",
   "execution_count": 29,
   "metadata": {},
   "outputs": [],
   "source": [
    "path_1=\"C:\\\\Users\\\\Shagun Sharma\\\\Desktop\\\\Projects\\\\DATASET\\\\NORTHRIDGE\\\\\"\n",
    "path_2=\"C:\\\\Users\\\\Shagun Sharma\\\\Desktop\\\\Projects\\\\DATASET\\\\BERLONGFER\\\\\"\n",
    "path_3=\"C:\\\\Users\\\\Shagun Sharma\\\\Desktop\\\\Projects\\\\DATASET\\\\UTTARKASHI\\\\\"\n",
    "path_4=\"C:\\\\Users\\\\Shagun Sharma\\\\Desktop\\\\Projects\\\\DATASET\\\\SANFRANDOSE\\\\\"\n",
    "path_5=\"C:\\\\Users\\\\Shagun Sharma\\\\Desktop\\\\Projects\\\\DATASET\\\\BAMU\\\\\"\n",
    "path_6=\"C:\\\\Users\\\\Shagun Sharma\\\\Desktop\\\\Projects\\\\DATASET\\\\KANGRA\\\\\"\n",
    "path_7=\"C:\\\\Users\\\\Shagun Sharma\\\\Desktop\\\\Projects\\\\DATASET\\\\BARKOT\\\\\"\n",
    "path_8=\"C:\\\\Users\\\\Shagun Sharma\\\\Desktop\\\\Projects\\\\DATASET\\\\CHAMOLI\\\\\"\n",
    "path_9=\"C:\\\\Users\\\\Shagun Sharma\\\\Desktop\\\\Projects\\\\DATASET\\\\CHERAPUNJI\\\\\"\n",
    "path_10=\"C:\\\\Users\\\\Shagun Sharma\\\\Desktop\\\\Projects\\\\DATASET\\\\GHANSALI\\\\\"\n",
    "path_11=\"C:\\\\Users\\\\Shagun Sharma\\\\Desktop\\\\Projects\\\\DATASET\\\\KOOMBER\\\\\""
   ]
  },
  {
   "cell_type": "markdown",
   "metadata": {},
   "source": [
    "### Possible Combinations of impulses provided in the Dataset"
   ]
  },
  {
   "cell_type": "code",
   "execution_count": 30,
   "metadata": {},
   "outputs": [],
   "source": [
    "g1=[0.1,0.3,0.5,0.7]\n",
    "g2=[0.1,0.3,0.5]\n",
    "g3=[0.7,1,2,3]\n",
    "g4=[1,2,3]\n",
    "g5=[0.1,0.3,0.5,0.7,1,2]\n",
    "g6=[3]\n",
    "g7=[0.1,0.3,0.5,0.7,1]\n",
    "g8=[2,3]\n",
    "g9=[0.1,0.3]\n",
    "g10=[0.5,0.7,1,2]\n",
    "g11=[0.5,0.7,1,2,3]"
   ]
  },
  {
   "cell_type": "markdown",
   "metadata": {},
   "source": [
    "## Northridge "
   ]
  },
  {
   "cell_type": "code",
   "execution_count": 61,
   "metadata": {},
   "outputs": [],
   "source": [
    "ud_northridge_x={}\n",
    "\n",
    "file_list_1=glob.glob(path_1+\"NORTHRIDGE ACC X 0.*.csv\")\n",
    "for file_path in file_list_1:\n",
    "    ud_northridge_x[file_path[file_path.rfind('0'):-4]]=p.DataFrame(p.read_csv(file_path))\n",
    "    for column in  ud_northridge_x[file_path[file_path.rfind('0'):-4]].columns:\n",
    "        if column in missing_joints:\n",
    "             ud_northridge_x[file_path[file_path.rfind('0'):-4]]= ud_northridge_x[file_path[file_path.rfind('0'):-4]].drop(column,axis=1)  \n",
    "        \n",
    "ud_northridge_y={}\n",
    "\n",
    "file_list_2=glob.glob(path_1+\"NORTHRIDGE ACC Y 0.*.csv\")\n",
    "for file_path in file_list_2:\n",
    "    ud_northridge_y[file_path[file_path.rfind('0'):-4]]=p.DataFrame(p.read_csv(file_path))\n",
    "    for column in ud_northridge_y[file_path[file_path.rfind('0'):-4]].columns:\n",
    "        if column in missing_joints:\n",
    "            ud_northridge_y[file_path[file_path.rfind('0'):-4]]=ud_northridge_y[file_path[file_path.rfind('0'):-4]].drop(column,axis=1) "
   ]
  },
  {
   "cell_type": "code",
   "execution_count": 62,
   "metadata": {},
   "outputs": [],
   "source": [
    "ud_northridge_x['0.1']=ud_northridge_x['0.1'].drop('Unnamed: 0',axis=1)\n",
    "ud_northridge_x['0.1'].columns=cols_1\n",
    "ud_northridge_x['0.3']=ud_northridge_x['0.3'].drop('Unnamed: 0',axis=1)\n",
    "ud_northridge_x['0.3'].columns=cols_1\n",
    "ud_northridge_x['0.5']=ud_northridge_x['0.5'].drop('Unnamed: 0',axis=1)\n",
    "ud_northridge_x['0.5'].columns=cols_1\n",
    "ud_northridge_x['0.7']=ud_northridge_x['0.7'].drop('Unnamed: 0',axis=1)\n",
    "ud_northridge_x['0.7'].columns=cols_1\n",
    "\n",
    "ud_northridge_y['0.1']=ud_northridge_y['0.1'].drop('Unnamed: 0',axis=1)\n",
    "ud_northridge_y['0.1'].columns=cols_1\n",
    "ud_northridge_y['0.3']=ud_northridge_y['0.3'].drop('Unnamed: 0',axis=1)\n",
    "ud_northridge_y['0.3'].columns=cols_1\n",
    "ud_northridge_y['0.5']=ud_northridge_y['0.5'].drop('Unnamed: 0',axis=1)\n",
    "ud_northridge_y['0.5'].columns=cols_1\n",
    "ud_northridge_y['0.7']=ud_northridge_y['0.7'].drop('Unnamed: 0',axis=1)\n",
    "ud_northridge_y['0.7'].columns=cols_1"
   ]
  },
  {
   "cell_type": "code",
   "execution_count": 63,
   "metadata": {},
   "outputs": [],
   "source": [
    "ud_northridge={}\n",
    "\n",
    "i=0\n",
    "while(i<4):\n",
    "    ud_northridge[str(g1[i])]=p.DataFrame(p.concat((ud_northridge_x[str(g1[i])],ud_northridge_y[str(g1[i])]),axis=0))\n",
    "    ud_northridge[str(g1[i])].reset_index(drop=True,inplace=True)\n",
    "    i+=1"
   ]
  },
  {
   "cell_type": "code",
   "execution_count": 64,
   "metadata": {},
   "outputs": [],
   "source": [
    "d_northridge_x={}\n",
    "file_list_7=glob.glob(path_1+\"NORTHRIDGE ACC X ?.csv\")\n",
    "\n",
    "for file_path in file_list_7:\n",
    "    d_northridge_x[file_path[file_path.rfind(' ')+1:-4]]=p.DataFrame(p.read_csv(file_path))\n",
    "    for column in  d_northridge_x[file_path[file_path.rfind(' ')+1:-4]].columns:\n",
    "        if column in missing_joints:\n",
    "             d_northridge_x[file_path[file_path.rfind(' ')+1:-4]]= d_northridge_x[file_path[file_path.rfind(' ')+1:-4]].drop(column,axis=1) \n",
    "    \n",
    "d_northridge_y={}\n",
    "file_list_8=glob.glob(path_1+\"NORTHRIDGE ACC Y ?.csv\")\n",
    "\n",
    "for file_path in file_list_8:\n",
    "    d_northridge_y[file_path[file_path.rfind(' ')+1:-4]]=p.DataFrame(p.read_csv(file_path))\n",
    "    for column in d_northridge_y[file_path[file_path.rfind(' ')+1:-4]].columns:\n",
    "        if column in missing_joints:\n",
    "            d_northridge_y[file_path[file_path.rfind(' ')+1:-4]]=d_northridge_y[file_path[file_path.rfind(' ')+1:-4]].drop(column,axis=1) "
   ]
  },
  {
   "cell_type": "code",
   "execution_count": 65,
   "metadata": {},
   "outputs": [],
   "source": [
    "d_northridge_x['1']=d_northridge_x['1'].drop('Unnamed: 0',axis=1)\n",
    "d_northridge_x['2']=d_northridge_x['2'].drop('Unnamed: 0',axis=1)\n",
    "d_northridge_x['3']=d_northridge_x['3'].drop('Unnamed: 0',axis=1)\n",
    "\n",
    "d_northridge_y['1']=d_northridge_y['1'].drop('Unnamed: 0',axis=1)\n",
    "d_northridge_y['2']=d_northridge_y['2'].drop('Unnamed: 0',axis=1)\n",
    "d_northridge_y['3']=d_northridge_y['3'].drop('Unnamed: 0',axis=1)\n",
    "\n",
    "d_northridge_x['1'].columns=cols_1\n",
    "d_northridge_x['2'].columns=cols_1\n",
    "d_northridge_x['3'].columns=cols_1\n",
    "\n",
    "d_northridge_y['1'].columns=cols_1\n",
    "d_northridge_y['2'].columns=cols_1\n",
    "d_northridge_y['3'].columns=cols_1"
   ]
  },
  {
   "cell_type": "code",
   "execution_count": 66,
   "metadata": {},
   "outputs": [],
   "source": [
    "d_northridge={}\n",
    "\n",
    "i=0\n",
    "while(i<3):\n",
    "    d_northridge[str(g4[i])]=p.DataFrame(p.concat((d_northridge_x[str(g4[i])],d_northridge_y[str(g4[i])]),axis=0))\n",
    "    d_northridge[str(g4[i])].reset_index(drop=True,inplace=True)\n",
    "    i+=1"
   ]
  },
  {
   "cell_type": "markdown",
   "metadata": {},
   "source": [
    "## Berlongfer"
   ]
  },
  {
   "cell_type": "code",
   "execution_count": 67,
   "metadata": {},
   "outputs": [],
   "source": [
    "ud_berlongfer_x={}\n",
    "\n",
    "file_list_3=glob.glob(path_2+\"berl acc X 0.*(U).csv\")\n",
    "\n",
    "for file_path in file_list_3:\n",
    "    ud_berlongfer_x[file_path[file_path.rfind('0'):-7]]=p.DataFrame(p.read_csv(file_path))\n",
    "    for column in ud_berlongfer_x[file_path[file_path.rfind('0'):-7]].columns:\n",
    "        if column in missing_joints:\n",
    "            ud_berlongfer_x[file_path[file_path.rfind('0'):-7]]=ud_berlongfer_x[file_path[file_path.rfind('0'):-7]].drop(column,axis=1) \n",
    "\n",
    "ud_berlongfer_y={}\n",
    "\n",
    "file_list_4=glob.glob(path_2+\"berl acc Y 0.*(U).csv\")\n",
    "\n",
    "for file_path in file_list_4:\n",
    "    ud_berlongfer_y[file_path[file_path.rfind('0'):-7]]=p.DataFrame(p.read_csv(file_path))\n",
    "    for column in ud_berlongfer_y[file_path[file_path.rfind('0'):-7]].columns:\n",
    "        if column in missing_joints:\n",
    "            ud_berlongfer_y[file_path[file_path.rfind('0'):-7]]=ud_berlongfer_y[file_path[file_path.rfind('0'):-7]].drop(column,axis=1) "
   ]
  },
  {
   "cell_type": "code",
   "execution_count": 68,
   "metadata": {},
   "outputs": [],
   "source": [
    "ud_berlongfer_x['0.5']=ud_berlongfer_x['0.5'].drop('Unnamed: 0',axis=1)\n",
    "ud_berlongfer_y['0.1']=ud_berlongfer_y['0.1'].drop('Unnamed: 0',axis=1)\n",
    "ud_berlongfer_y['0.3']=ud_berlongfer_y['0.3'].drop('Unnamed: 0',axis=1)\n",
    "ud_berlongfer_y['0.5']=ud_berlongfer_y['0.5'].drop('Unnamed: 0',axis=1)\n",
    "\n",
    "ud_berlongfer_x['0.1'].columns=cols_1\n",
    "ud_berlongfer_x['0.3'].columns=cols_1\n",
    "ud_berlongfer_x['0.5'].columns=cols_1\n",
    "\n",
    "ud_berlongfer_y['0.1'].columns=cols_1\n",
    "ud_berlongfer_y['0.3'].columns=cols_1\n",
    "ud_berlongfer_y['0.5'].columns=cols_1\n"
   ]
  },
  {
   "cell_type": "code",
   "execution_count": 69,
   "metadata": {},
   "outputs": [],
   "source": [
    "ud_berlongfer={}\n",
    "\n",
    "\n",
    "i=0\n",
    "while(i<3):\n",
    "    ud_berlongfer[str(g2[i])]=p.DataFrame(p.concat((ud_berlongfer_x[str(g2[i])],ud_berlongfer_y[str(g2[i])]),axis=0))\n",
    "    ud_berlongfer[str(g2[i])].reset_index(drop=True,inplace=True)\n",
    "    i+=1"
   ]
  },
  {
   "cell_type": "code",
   "execution_count": 70,
   "metadata": {},
   "outputs": [],
   "source": [
    "d_berlongfer_x={}\n",
    "file_list_5=glob.glob(path_2+\"berl acc X *(D).csv\")\n",
    "\n",
    "for file_path in file_list_5:\n",
    "    d_berlongfer_x[file_path[file_path.rfind(' ')+1:-7]]=p.DataFrame(p.read_csv(file_path))\n",
    "    for column in d_berlongfer_x[file_path[file_path.rfind(' ')+1:-7]].columns:\n",
    "        if column in missing_joints:\n",
    "            d_berlongfer_x[file_path[file_path.rfind(' ')+1:-7]]=d_berlongfer_x[file_path[file_path.rfind(' ')+1:-7]].drop(column,axis=1) \n",
    "    \n",
    "d_berlongfer_y={}\n",
    "file_list_6=glob.glob(path_2+\"berl acc Y *(D).csv\")\n",
    "\n",
    "for file_path in file_list_6:\n",
    "    d_berlongfer_y[file_path[file_path.rfind(' ')+1:-7]]=p.DataFrame(p.read_csv(file_path))\n",
    "    for column in d_berlongfer_y[file_path[file_path.rfind(' ')+1:-7]].columns:\n",
    "        if column in missing_joints:\n",
    "            d_berlongfer_y[file_path[file_path.rfind(' ')+1:-7]]=d_berlongfer_y[file_path[file_path.rfind(' ')+1:-7]].drop(column,axis=1) "
   ]
  },
  {
   "cell_type": "code",
   "execution_count": 71,
   "metadata": {},
   "outputs": [],
   "source": [
    "d_berlongfer_x['0.7']=d_berlongfer_x['0.7'].drop('Unnamed: 0',axis=1)\n",
    "d_berlongfer_x['1']=d_berlongfer_x['1'].drop('Unnamed: 0',axis=1)\n",
    "d_berlongfer_x['2']=d_berlongfer_x['2'].drop('Unnamed: 0',axis=1)\n",
    "d_berlongfer_x['3']=d_berlongfer_x['3'].drop('Unnamed: 0',axis=1)\n",
    "\n",
    "d_berlongfer_y['0.7']=d_berlongfer_y['0.7'].drop('Unnamed: 0',axis=1)\n",
    "d_berlongfer_y['1']=d_berlongfer_y['1'].drop('Unnamed: 0',axis=1)\n",
    "d_berlongfer_y['2']=d_berlongfer_y['2'].drop('Unnamed: 0',axis=1)\n",
    "d_berlongfer_y['3']=d_berlongfer_y['3'].drop('Unnamed: 0',axis=1)\n",
    "\n",
    "d_berlongfer_x['1'].columns=cols_1\n",
    "d_berlongfer_x['3'].columns=cols_1\n",
    "d_berlongfer_x['2'].columns=cols_1\n",
    "d_berlongfer_x['0.7'].columns=cols_1\n",
    "\n",
    "d_berlongfer_y['1'].columns=cols_1\n",
    "d_berlongfer_y['3'].columns=cols_1\n",
    "d_berlongfer_y['2'].columns=cols_1\n",
    "d_berlongfer_y['0.7'].columns=cols_1"
   ]
  },
  {
   "cell_type": "code",
   "execution_count": 72,
   "metadata": {},
   "outputs": [],
   "source": [
    "d_berlongfer={}\n",
    "\n",
    "i=0\n",
    "while(i<4):\n",
    "    d_berlongfer[str(g3[i])]=p.DataFrame(p.concat((d_berlongfer_x[str(g3[i])],d_berlongfer_y[str(g3[i])]),axis=0))\n",
    "    d_berlongfer[str(g3[i])].reset_index(drop=True,inplace=True)\n",
    "    i+=1"
   ]
  },
  {
   "cell_type": "markdown",
   "metadata": {},
   "source": [
    "## Uttarkashi"
   ]
  },
  {
   "cell_type": "code",
   "execution_count": 73,
   "metadata": {},
   "outputs": [],
   "source": [
    "ud_uttarkashi_x={}\n",
    "\n",
    "file_list_9=glob.glob(path_3+\"utk acc x (0.*)(U).csv\")\n",
    "\n",
    "for file_path in file_list_9:\n",
    "    ud_uttarkashi_x[file_path[file_path.rfind('0'):-8]]=p.DataFrame(p.read_csv(file_path))\n",
    "    for column in ud_uttarkashi_x[file_path[file_path.rfind('0'):-8]].columns:\n",
    "        if column in missing_joints:\n",
    "            ud_uttarkashi_x[file_path[file_path.rfind('0'):-8]]=ud_uttarkashi_x[file_path[file_path.rfind('0'):-8]].drop(column,axis=1) \n",
    "\n",
    "ud_uttarkashi_y={}\n",
    "\n",
    "file_list_10=glob.glob(path_3+\"utk acc y (0.*)(U).csv\")\n",
    "\n",
    "for file_path in file_list_10:\n",
    "    ud_uttarkashi_y[file_path[file_path.rfind('0'):-8]]=p.DataFrame(p.read_csv(file_path))\n",
    "    for column in ud_uttarkashi_y[file_path[file_path.rfind('0'):-8]].columns:\n",
    "        if column in missing_joints:\n",
    "            ud_uttarkashi_y[file_path[file_path.rfind('0'):-8]]=ud_uttarkashi_y[file_path[file_path.rfind('0'):-8]].drop(column,axis=1) "
   ]
  },
  {
   "cell_type": "code",
   "execution_count": 74,
   "metadata": {},
   "outputs": [],
   "source": [
    "ud_uttarkashi_x['0.1']=ud_uttarkashi_x['0.1'].drop('Unnamed: 0',axis=1)\n",
    "ud_uttarkashi_x['0.3']=ud_uttarkashi_x['0.3'].drop('Unnamed: 0',axis=1)\n",
    "ud_uttarkashi_x['0.5']=ud_uttarkashi_x['0.5'].drop('Unnamed: 0',axis=1)\n",
    "\n",
    "ud_uttarkashi_y['0.1']=ud_uttarkashi_y['0.1'].drop('Unnamed: 0',axis=1)\n",
    "ud_uttarkashi_y['0.3']=ud_uttarkashi_y['0.3'].drop('Unnamed: 0',axis=1)\n",
    "ud_uttarkashi_y['0.5']=ud_uttarkashi_y['0.5'].drop('Unnamed: 0',axis=1)\n",
    "\n",
    "ud_uttarkashi_x['0.1'].columns=cols_1\n",
    "ud_uttarkashi_x['0.3'].columns=cols_1\n",
    "ud_uttarkashi_x['0.5'].columns=cols_1\n",
    "\n",
    "ud_uttarkashi_y['0.1'].columns=cols_1\n",
    "ud_uttarkashi_y['0.3'].columns=cols_1\n",
    "ud_uttarkashi_y['0.5'].columns=cols_1"
   ]
  },
  {
   "cell_type": "code",
   "execution_count": 75,
   "metadata": {},
   "outputs": [],
   "source": [
    "ud_uttarkashi={}\n",
    "\n",
    "g2=[0.1,0.3,0.5]\n",
    "i=0\n",
    "while(i<3):\n",
    "    ud_uttarkashi[str(g2[i])]=p.DataFrame(p.concat((ud_uttarkashi_x[str(g2[i])],ud_uttarkashi_y[str(g2[i])]),axis=0))\n",
    "    ud_uttarkashi[str(g2[i])].reset_index(drop=True,inplace=True)\n",
    "    i+=1"
   ]
  },
  {
   "cell_type": "code",
   "execution_count": 76,
   "metadata": {},
   "outputs": [],
   "source": [
    "d_uttarkashi_x={}\n",
    "\n",
    "file_list_11=glob.glob(path_3+\"utk acc x (*)(D).csv\")\n",
    "\n",
    "for file_path in file_list_11:\n",
    "    d_uttarkashi_x[file_path[file_path.rfind(' (')+2:-8]]=p.DataFrame(p.read_csv(file_path))\n",
    "    for column in d_uttarkashi_x[file_path[file_path.rfind(' (')+2:-8]].columns:\n",
    "        if column in missing_joints:\n",
    "            d_uttarkashi_x[file_path[file_path.rfind(' (')+2:-8]]=d_uttarkashi_x[file_path[file_path.rfind(' (')+2:-8]].drop(column,axis=1) \n",
    "\n",
    "d_uttarkashi_y={}\n",
    "\n",
    "file_list_12=glob.glob(path_3+\"utk acc y (*)(D).csv\")\n",
    "\n",
    "for file_path in file_list_12:\n",
    "    d_uttarkashi_y[file_path[file_path.rfind(' (')+2:-8]]=p.DataFrame(p.read_csv(file_path))\n",
    "    for column in d_uttarkashi_y[file_path[file_path.rfind(' (')+2:-8]].columns:\n",
    "        if column in missing_joints:\n",
    "            d_uttarkashi_y[file_path[file_path.rfind(' (')+2:-8]]=d_uttarkashi_y[file_path[file_path.rfind(' (')+2:-8]].drop(column,axis=1) "
   ]
  },
  {
   "cell_type": "code",
   "execution_count": 77,
   "metadata": {},
   "outputs": [],
   "source": [
    "d_uttarkashi_x['0.7']=d_uttarkashi_x['0.7'].drop('Unnamed: 0',axis=1)\n",
    "d_uttarkashi_x['1']=d_uttarkashi_x['1'].drop('Unnamed: 0',axis=1)\n",
    "d_uttarkashi_x['2']=d_uttarkashi_x['2'].drop('Unnamed: 0',axis=1)\n",
    "d_uttarkashi_x['3']=d_uttarkashi_x['3'].drop('Unnamed: 0',axis=1)\n",
    "\n",
    "d_uttarkashi_y['0.7']=d_uttarkashi_y['0.7'].drop('Unnamed: 0',axis=1)\n",
    "d_uttarkashi_y['1']=d_uttarkashi_y['1'].drop('Unnamed: 0',axis=1)\n",
    "d_uttarkashi_y['2']=d_uttarkashi_y['2'].drop('Unnamed: 0',axis=1)\n",
    "d_uttarkashi_y['3']=d_uttarkashi_y['3'].drop('Unnamed: 0',axis=1)\n",
    "\n",
    "d_uttarkashi_x['0.7'].columns=cols_1\n",
    "d_uttarkashi_x['1'].columns=cols_1\n",
    "d_uttarkashi_x['2'].columns=cols_1\n",
    "d_uttarkashi_x['3'].columns=cols_1\n",
    "\n",
    "d_uttarkashi_y['0.7'].columns=cols_1\n",
    "d_uttarkashi_y['1'].columns=cols_1\n",
    "d_uttarkashi_y['2'].columns=cols_1\n",
    "d_uttarkashi_y['3'].columns=cols_1"
   ]
  },
  {
   "cell_type": "code",
   "execution_count": 78,
   "metadata": {},
   "outputs": [],
   "source": [
    "d_uttarkashi={}\n",
    "\n",
    "g3=[0.7,1,2,3]\n",
    "i=0\n",
    "while(i<4):\n",
    "    d_uttarkashi[str(g3[i])]=p.DataFrame(p.concat((d_uttarkashi_x[str(g3[i])],d_uttarkashi_y[str(g3[i])]),axis=0))\n",
    "    d_uttarkashi[str(g3[i])].reset_index(drop=True,inplace=True)\n",
    "    i+=1"
   ]
  },
  {
   "cell_type": "markdown",
   "metadata": {},
   "source": [
    "## Sanfrandose"
   ]
  },
  {
   "cell_type": "code",
   "execution_count": 83,
   "metadata": {},
   "outputs": [],
   "source": [
    "ud_sanfrandose_x={}\n",
    "\n",
    "file_list_13=glob.glob(path_4+\"SANFRANDOSE ACC X *(U).csv\")\n",
    "for file_path in file_list_13:\n",
    "    ud_sanfrandose_x[file_path[file_path.rfind(' ')+1:-7]]=p.DataFrame(p.read_csv(file_path))\n",
    "    for column in ud_sanfrandose_x[file_path[file_path.rfind(' ')+1:-7]].columns:\n",
    "        if column in missing_joints:\n",
    "            ud_sanfrandose_x[file_path[file_path.rfind(' ')+1:-7]]=ud_sanfrandose_x[file_path[file_path.rfind(' ')+1:-7]].drop(column,axis=1) \n",
    "      \n",
    "        \n",
    "ud_sanfrandose_y={}\n",
    "\n",
    "file_list_14=glob.glob(path_4+\"SANFRANDOSE ACC Y *(U).csv\")\n",
    "for file_path in file_list_14:\n",
    "    ud_sanfrandose_y[file_path[file_path.rfind(' ')+1:-7]]=p.DataFrame(p.read_csv(file_path))\n",
    "    for column in ud_sanfrandose_y[file_path[file_path.rfind(' ')+1:-7]].columns:\n",
    "        if column in missing_joints:\n",
    "            ud_sanfrandose_y[file_path[file_path.rfind(' ')+1:-7]]=ud_sanfrandose_y[file_path[file_path.rfind(' ')+1:-7]].drop(column,axis=1) "
   ]
  },
  {
   "cell_type": "code",
   "execution_count": 84,
   "metadata": {},
   "outputs": [],
   "source": [
    "ud_sanfrandose_x['0.1']=ud_sanfrandose_x['0.1'].drop('Unnamed: 0',axis=1)\n",
    "ud_sanfrandose_x['0.1'].columns=cols_1\n",
    "ud_sanfrandose_x['0.3']=ud_sanfrandose_x['0.3'].drop('Unnamed: 0',axis=1)\n",
    "ud_sanfrandose_x['0.3'].columns=cols_1\n",
    "ud_sanfrandose_x['0.5']=ud_sanfrandose_x['0.5'].drop('Unnamed: 0',axis=1)\n",
    "ud_sanfrandose_x['0.5'].columns=cols_1\n",
    "ud_sanfrandose_x['0.7']=ud_sanfrandose_x['0.7'].drop('Unnamed: 0',axis=1)\n",
    "ud_sanfrandose_x['0.7'].columns=cols_1\n",
    "ud_sanfrandose_x['1']=ud_sanfrandose_x['1'].drop('Unnamed: 0',axis=1)\n",
    "ud_sanfrandose_x['1'].columns=cols_1\n",
    "ud_sanfrandose_x['2']=ud_sanfrandose_x['2'].drop('Unnamed: 0',axis=1)\n",
    "ud_sanfrandose_x['2'].columns=cols_1\n",
    "\n",
    "\n",
    "ud_sanfrandose_y['0.1']=ud_sanfrandose_y['0.1'].drop('Unnamed: 0',axis=1)\n",
    "ud_sanfrandose_y['0.1'].columns=cols_1\n",
    "ud_sanfrandose_y['0.3']=ud_sanfrandose_y['0.3'].drop('Unnamed: 0',axis=1)\n",
    "ud_sanfrandose_y['0.3'].columns=cols_1\n",
    "ud_sanfrandose_y['0.5']=ud_sanfrandose_y['0.5'].drop('Unnamed: 0',axis=1)\n",
    "ud_sanfrandose_y['0.5'].columns=cols_1\n",
    "ud_sanfrandose_y['0.7']=ud_sanfrandose_y['0.7'].drop('Unnamed: 0',axis=1)\n",
    "ud_sanfrandose_y['0.7'].columns=cols_1\n",
    "ud_sanfrandose_y['1']=ud_sanfrandose_y['1'].drop('Unnamed: 0',axis=1)\n",
    "ud_sanfrandose_y['1'].columns=cols_1\n",
    "ud_sanfrandose_y['2']=ud_sanfrandose_y['2'].drop('Unnamed: 0',axis=1)\n",
    "ud_sanfrandose_y['2'].columns=cols_1"
   ]
  },
  {
   "cell_type": "code",
   "execution_count": 85,
   "metadata": {},
   "outputs": [],
   "source": [
    "ud_sanfrandose={}\n",
    "\n",
    "i=0\n",
    "while(i<6):\n",
    "    ud_sanfrandose[str(g5[i])]=p.DataFrame(p.concat((ud_sanfrandose_x[str(g5[i])],ud_sanfrandose_y[str(g5[i])]),axis=0))\n",
    "    ud_sanfrandose[str(g5[i])].reset_index(drop=True,inplace=True)\n",
    "    i+=1"
   ]
  },
  {
   "cell_type": "code",
   "execution_count": 86,
   "metadata": {},
   "outputs": [],
   "source": [
    "d_sanfrandose_x={}\n",
    "\n",
    "file_list_15=glob.glob(path_4+\"SANFRANDOSE ACC X *(D).csv\")\n",
    "for file_path in file_list_15:\n",
    "    d_sanfrandose_x[file_path[file_path.rfind(' ')+1:-7]]=p.DataFrame(p.read_csv(file_path))\n",
    "    for column in d_sanfrandose_x[file_path[file_path.rfind(' ')+1:-7]].columns:\n",
    "        if column in missing_joints:\n",
    "            d_sanfrandose_x[file_path[file_path.rfind(' ')+1:-7]]=d_sanfrandose_x[file_path[file_path.rfind(' ')+1:-7]].drop(column,axis=1) \n",
    "      \n",
    "        \n",
    "d_sanfrandose_y={}\n",
    "\n",
    "file_list_16=glob.glob(path_4+\"SANFRANDOSE ACC Y *(D).csv\")\n",
    "for file_path in file_list_16:\n",
    "    d_sanfrandose_y[file_path[file_path.rfind(' ')+1:-7]]=p.DataFrame(p.read_csv(file_path))\n",
    "    for column in d_sanfrandose_y[file_path[file_path.rfind(' ')+1:-7]].columns:\n",
    "        if column in missing_joints:\n",
    "            d_sanfrandose_y[file_path[file_path.rfind(' ')+1:-7]]=d_sanfrandose_y[file_path[file_path.rfind(' ')+1:-7]].drop(column,axis=1) "
   ]
  },
  {
   "cell_type": "code",
   "execution_count": 87,
   "metadata": {},
   "outputs": [],
   "source": [
    "d_sanfrandose_x['3']=d_sanfrandose_x['3'].drop('Unnamed: 0',axis=1)\n",
    "d_sanfrandose_x['3'].columns=cols_1\n",
    "\n",
    "d_sanfrandose_y['3']=d_sanfrandose_y['3'].drop('Unnamed: 0',axis=1)\n",
    "d_sanfrandose_y['3'].columns=cols_1"
   ]
  },
  {
   "cell_type": "code",
   "execution_count": 88,
   "metadata": {},
   "outputs": [],
   "source": [
    "d_sanfrandose={}\n",
    "\n",
    "i=0\n",
    "while(i<1):\n",
    "    d_sanfrandose[str(g6[i])]=p.DataFrame(p.concat((d_sanfrandose_x[str(g6[i])],d_sanfrandose_y[str(g6[i])]),axis=0))\n",
    "    d_sanfrandose[str(g6[i])].reset_index(drop=True,inplace=True)\n",
    "    i+=1"
   ]
  },
  {
   "cell_type": "markdown",
   "metadata": {},
   "source": [
    "## Bamu"
   ]
  },
  {
   "cell_type": "code",
   "execution_count": 91,
   "metadata": {},
   "outputs": [],
   "source": [
    "ud_bamu_x={}\n",
    "\n",
    "file_list_17=glob.glob(path_5+\"BAMU ACC X 0.*(U).csv\")\n",
    "\n",
    "for file_path in file_list_17:\n",
    "    ud_bamu_x[file_path[file_path.rfind('0'):-7]]=p.DataFrame(p.read_csv(file_path))\n",
    "    for column in ud_bamu_x[file_path[file_path.rfind('0'):-7]].columns:\n",
    "        if column in missing_joints:\n",
    "            ud_bamu_x[file_path[file_path.rfind('0'):-7]]=ud_bamu_x[file_path[file_path.rfind('0'):-7]].drop(column,axis=1) \n",
    "\n",
    "ud_bamu_y={}\n",
    "\n",
    "file_list_18=glob.glob(path_5+\"BAMU ACC Y 0.*(U).csv\")\n",
    "\n",
    "for file_path in file_list_18:\n",
    "    ud_bamu_y[file_path[file_path.rfind('0'):-7]]=p.DataFrame(p.read_csv(file_path))\n",
    "    for column in ud_bamu_y[file_path[file_path.rfind('0'):-7]].columns:\n",
    "        if column in missing_joints:\n",
    "            ud_bamu_y[file_path[file_path.rfind('0'):-7]]=ud_bamu_y[file_path[file_path.rfind('0'):-7]].drop(column,axis=1) "
   ]
  },
  {
   "cell_type": "code",
   "execution_count": 92,
   "metadata": {},
   "outputs": [],
   "source": [
    "ud_bamu_x['0.1']=ud_bamu_x['0.1'].drop('Unnamed: 0',axis=1)\n",
    "ud_bamu_x['0.3']=ud_bamu_x['0.3'].drop('Unnamed: 0',axis=1)\n",
    "ud_bamu_x['0.5']=ud_bamu_x['0.5'].drop('Unnamed: 0',axis=1)\n",
    "ud_bamu_x['0.1'].columns=cols_1\n",
    "ud_bamu_x['0.3'].columns=cols_1\n",
    "ud_bamu_x['0.5'].columns=cols_1\n",
    "\n",
    "ud_bamu_y['0.1']=ud_bamu_y['0.1'].drop('Unnamed: 0',axis=1)\n",
    "ud_bamu_y['0.3']=ud_bamu_y['0.3'].drop('Unnamed: 0',axis=1)\n",
    "ud_bamu_y['0.5']=ud_bamu_y['0.5'].drop('Unnamed: 0',axis=1)\n",
    "ud_bamu_y['0.1'].columns=cols_1\n",
    "ud_bamu_y['0.3'].columns=cols_1\n",
    "ud_bamu_y['0.5'].columns=cols_1"
   ]
  },
  {
   "cell_type": "code",
   "execution_count": 93,
   "metadata": {},
   "outputs": [],
   "source": [
    "ud_bamu={}\n",
    "\n",
    "i=0\n",
    "while(i<3):\n",
    "    ud_bamu[str(g2[i])]=p.DataFrame(p.concat((ud_bamu_x[str(g2[i])],ud_bamu_y[str(g2[i])]),axis=0))\n",
    "    ud_bamu[str(g2[i])].reset_index(drop=True,inplace=True)\n",
    "    i+=1"
   ]
  },
  {
   "cell_type": "code",
   "execution_count": 99,
   "metadata": {},
   "outputs": [],
   "source": [
    "d_bamu_x={}\n",
    "file_list_19=glob.glob(path_5+\"BAMU ACC X *(D).csv\")\n",
    "\n",
    "for file_path in file_list_19:\n",
    "    d_bamu_x[file_path[file_path.rfind(' ')+1:-7]]=p.DataFrame(p.read_csv(file_path))\n",
    "    for column in d_bamu_x[file_path[file_path.rfind(' ')+1:-7]].columns:\n",
    "        if column in missing_joints:\n",
    "            d_bamu_x[file_path[file_path.rfind(' ')+1:-7]]=d_bamu_x[file_path[file_path.rfind(' ')+1:-7]].drop(column,axis=1) \n",
    "    \n",
    "d_bamu_y={}\n",
    "file_list_20=glob.glob(path_5+\"BAMU ACC Y *(D).csv\")\n",
    "\n",
    "for file_path in file_list_20:\n",
    "    d_bamu_y[file_path[file_path.rfind(' ')+1:-7]]=p.DataFrame(p.read_csv(file_path))\n",
    "    for column in d_bamu_y[file_path[file_path.rfind(' ')+1:-7]].columns:\n",
    "        if column in missing_joints:\n",
    "            d_bamu_y[file_path[file_path.rfind(' ')+1:-7]]=d_bamu_y[file_path[file_path.rfind(' ')+1:-7]].drop(column,axis=1) "
   ]
  },
  {
   "cell_type": "code",
   "execution_count": 100,
   "metadata": {},
   "outputs": [],
   "source": [
    "d_bamu_x['0.7']=d_bamu_x['0.7'].drop('Unnamed: 0',axis=1)\n",
    "d_bamu_x['1']=d_bamu_x['1'].drop('Unnamed: 0',axis=1)\n",
    "d_bamu_x['2']=d_bamu_x['2'].drop('Unnamed: 0',axis=1)\n",
    "d_bamu_x['3']=d_bamu_x['3'].drop('Unnamed: 0',axis=1)\n",
    "\n",
    "d_bamu_y['0.7']=d_bamu_y['0.7'].drop('Unnamed: 0',axis=1)\n",
    "d_bamu_y['1']=d_bamu_y['1'].drop('Unnamed: 0',axis=1)\n",
    "d_bamu_y['2']=d_bamu_y['2'].drop('Unnamed: 0',axis=1)\n",
    "d_bamu_y['3']=d_bamu_y['3'].drop('Unnamed: 0',axis=1)\n",
    "\n",
    "d_bamu_x['1'].columns=cols_1\n",
    "d_bamu_x['3'].columns=cols_1\n",
    "d_bamu_x['2'].columns=cols_1\n",
    "d_bamu_x['0.7'].columns=cols_1\n",
    "\n",
    "d_bamu_y['1'].columns=cols_1\n",
    "d_bamu_y['3'].columns=cols_1\n",
    "d_bamu_y['2'].columns=cols_1\n",
    "d_bamu_y['0.7'].columns=cols_1"
   ]
  },
  {
   "cell_type": "code",
   "execution_count": 101,
   "metadata": {},
   "outputs": [],
   "source": [
    "d_bamu={}\n",
    "\n",
    "i=0\n",
    "while(i<4):\n",
    "    d_bamu[str(g3[i])]=p.DataFrame(p.concat((d_bamu_x[str(g3[i])],d_bamu_y[str(g3[i])]),axis=0))\n",
    "    d_bamu[str(g3[i])].reset_index(drop=True,inplace=True)\n",
    "    i+=1"
   ]
  },
  {
   "cell_type": "markdown",
   "metadata": {},
   "source": [
    "## Kangra"
   ]
  },
  {
   "cell_type": "code",
   "execution_count": 102,
   "metadata": {},
   "outputs": [],
   "source": [
    "ud_kangra_x={}\n",
    "\n",
    "file_list_21=glob.glob(path_6+\"KANGRA ACC X 0.*(U).csv\")\n",
    "for file_path in file_list_21:\n",
    "    ud_kangra_x[file_path[file_path.rfind('0'):-7]]=p.DataFrame(p.read_csv(file_path))\n",
    "    for column in ud_kangra_x[file_path[file_path.rfind('0'):-7]].columns:\n",
    "        if column in missing_joints:\n",
    "            ud_kangra_x[file_path[file_path.rfind('0'):-7]]=ud_kangra_x[file_path[file_path.rfind('0'):-7]].drop(column,axis=1) \n",
    "      \n",
    "        \n",
    "ud_kangra_y={}\n",
    "\n",
    "file_list_22=glob.glob(path_6+\"KANGRA ACC Y 0.*(U).csv\")\n",
    "for file_path in file_list_22:\n",
    "    ud_kangra_y[file_path[file_path.rfind('0'):-7]]=p.DataFrame(p.read_csv(file_path))\n",
    "    for column in ud_kangra_y[file_path[file_path.rfind('0'):-7]].columns:\n",
    "        if column in missing_joints:\n",
    "            ud_kangra_y[file_path[file_path.rfind('0'):-7]]=ud_kangra_y[file_path[file_path.rfind('0'):-7]].drop(column,axis=1) "
   ]
  },
  {
   "cell_type": "code",
   "execution_count": 103,
   "metadata": {},
   "outputs": [],
   "source": [
    "ud_kangra_x['0.1']=ud_kangra_x['0.1'].drop('Unnamed: 0',axis=1)\n",
    "ud_kangra_x['0.1'].columns=cols_1\n",
    "ud_kangra_x['0.3']=ud_kangra_x['0.3'].drop('Unnamed: 0',axis=1)\n",
    "ud_kangra_x['0.3'].columns=cols_1\n",
    "ud_kangra_x['0.5']=ud_kangra_x['0.5'].drop('Unnamed: 0',axis=1)\n",
    "ud_kangra_x['0.5'].columns=cols_1\n",
    "ud_kangra_x['0.7']=ud_kangra_x['0.7'].drop('Unnamed: 0',axis=1)\n",
    "ud_kangra_x['0.7'].columns=cols_1\n",
    "\n",
    "ud_kangra_y['0.1']=ud_kangra_y['0.1'].drop('Unnamed: 0',axis=1)\n",
    "ud_kangra_y['0.1'].columns=cols_1\n",
    "ud_kangra_y['0.3']=ud_kangra_y['0.3'].drop('Unnamed: 0',axis=1)\n",
    "ud_kangra_y['0.3'].columns=cols_1\n",
    "ud_kangra_y['0.5']=ud_kangra_y['0.5'].drop('Unnamed: 0',axis=1)\n",
    "ud_kangra_y['0.5'].columns=cols_1\n",
    "ud_kangra_y['0.7']=ud_kangra_y['0.7'].drop('Unnamed: 0',axis=1)\n",
    "ud_kangra_y['0.7'].columns=cols_1"
   ]
  },
  {
   "cell_type": "code",
   "execution_count": 104,
   "metadata": {},
   "outputs": [],
   "source": [
    "ud_kangra={}\n",
    "\n",
    "i=0\n",
    "while(i<4):\n",
    "    ud_kangra[str(g1[i])]=p.DataFrame(p.concat((ud_kangra_x[str(g1[i])],ud_kangra_y[str(g1[i])]),axis=0))\n",
    "    ud_kangra[str(g1[i])].reset_index(drop=True,inplace=True)\n",
    "    i+=1"
   ]
  },
  {
   "cell_type": "code",
   "execution_count": 105,
   "metadata": {},
   "outputs": [],
   "source": [
    "d_kangra_x={}\n",
    "file_list_23=glob.glob(path_6+\"KANGRA ACC X ?(D).csv\")\n",
    "\n",
    "for file_path in file_list_23:\n",
    "    d_kangra_x[file_path[file_path.rfind(' ')+1:-7]]=p.DataFrame(p.read_csv(file_path))\n",
    "    for column in d_kangra_x[file_path[file_path.rfind(' ')+1:-7]].columns:\n",
    "        if column in missing_joints:\n",
    "            d_kangra_x[file_path[file_path.rfind(' ')+1:-7]]=d_kangra_x[file_path[file_path.rfind(' ')+1:-7]].drop(column,axis=1) \n",
    "    \n",
    "d_kangra_y={}\n",
    "file_list_24=glob.glob(path_6+\"KANGRA ACC Y ?(D).csv\")\n",
    "\n",
    "for file_path in file_list_24:\n",
    "    d_kangra_y[file_path[file_path.rfind(' ')+1:-7]]=p.DataFrame(p.read_csv(file_path))\n",
    "    for column in d_kangra_y[file_path[file_path.rfind(' ')+1:-7]].columns:\n",
    "        if column in missing_joints:\n",
    "            d_kangra_y[file_path[file_path.rfind(' ')+1:-7]]=d_kangra_y[file_path[file_path.rfind(' ')+1:-7]].drop(column,axis=1) "
   ]
  },
  {
   "cell_type": "code",
   "execution_count": 106,
   "metadata": {},
   "outputs": [],
   "source": [
    "d_kangra_x['1']=d_kangra_x['1'].drop('Unnamed: 0',axis=1)\n",
    "d_kangra_x['2']=d_kangra_x['2'].drop('Unnamed: 0',axis=1)\n",
    "d_kangra_x['3']=d_kangra_x['3'].drop('Unnamed: 0',axis=1)\n",
    "\n",
    "d_kangra_y['1']=d_kangra_y['1'].drop('Unnamed: 0',axis=1)\n",
    "d_kangra_y['2']=d_kangra_y['2'].drop('Unnamed: 0',axis=1)\n",
    "d_kangra_y['3']=d_kangra_y['3'].drop('Unnamed: 0',axis=1)\n",
    "\n",
    "d_kangra_x['1'].columns=cols_1\n",
    "d_kangra_x['2'].columns=cols_1\n",
    "d_kangra_x['3'].columns=cols_1\n",
    "\n",
    "d_kangra_y['1'].columns=cols_1\n",
    "d_kangra_y['2'].columns=cols_1\n",
    "d_kangra_y['3'].columns=cols_1"
   ]
  },
  {
   "cell_type": "code",
   "execution_count": 107,
   "metadata": {},
   "outputs": [],
   "source": [
    "d_kangra={}\n",
    "\n",
    "i=0\n",
    "while(i<3):\n",
    "    d_kangra[str(g4[i])]=p.DataFrame(p.concat((d_kangra_x[str(g4[i])],d_kangra_y[str(g4[i])]),axis=0))\n",
    "    d_kangra[str(g4[i])].reset_index(drop=True,inplace=True)\n",
    "    i+=1"
   ]
  },
  {
   "cell_type": "markdown",
   "metadata": {},
   "source": [
    "## Barkot"
   ]
  },
  {
   "cell_type": "code",
   "execution_count": 108,
   "metadata": {},
   "outputs": [],
   "source": [
    "ud_barkot_x={}\n",
    "\n",
    "file_list_25=glob.glob(path_7+\"barkot acc X 0.*(U).csv\")\n",
    "for file_path in file_list_25:\n",
    "    ud_barkot_x[file_path[file_path.rfind('0'):-7]]=p.DataFrame(p.read_csv(file_path))\n",
    "    for column in ud_barkot_x[file_path[file_path.rfind('0'):-7]].columns:\n",
    "        if column in missing_joints:\n",
    "            ud_barkot_x[file_path[file_path.rfind('0'):-7]]=ud_barkot_x[file_path[file_path.rfind('0'):-7]].drop(column,axis=1) \n",
    "    \n",
    "ud_barkot_y={}\n",
    "\n",
    "file_list_26=glob.glob(path_7+\"barkot acc Y 0.*(U).csv\")\n",
    "for file_path in file_list_26:\n",
    "    ud_barkot_y[file_path[file_path.rfind('0'):-7]]=p.DataFrame(p.read_csv(file_path))\n",
    "    for column in ud_barkot_y[file_path[file_path.rfind('0'):-7]].columns:\n",
    "        if column in missing_joints:\n",
    "            ud_barkot_y[file_path[file_path.rfind('0'):-7]]=ud_barkot_y[file_path[file_path.rfind('0'):-7]].drop(column,axis=1) "
   ]
  },
  {
   "cell_type": "code",
   "execution_count": 109,
   "metadata": {},
   "outputs": [],
   "source": [
    "ud_barkot_x['0.1']=ud_barkot_x['0.1'].drop('Unnamed: 0',axis=1)\n",
    "ud_barkot_x['0.1'].columns=cols_1\n",
    "ud_barkot_x['0.3']=ud_barkot_x['0.3'].drop('Unnamed: 0',axis=1)\n",
    "ud_barkot_x['0.3'].columns=cols_1\n",
    "ud_barkot_x['0.5']=ud_barkot_x['0.5'].drop('Unnamed: 0',axis=1)\n",
    "ud_barkot_x['0.5'].columns=cols_1\n",
    "ud_barkot_x['0.7']=ud_barkot_x['0.7'].drop('Unnamed: 0',axis=1)\n",
    "ud_barkot_x['0.7'].columns=cols_1\n",
    "\n",
    "ud_barkot_y['0.1']=ud_barkot_y['0.1'].drop('Unnamed: 0',axis=1)\n",
    "ud_barkot_y['0.1'].columns=cols_1\n",
    "ud_barkot_y['0.3']=ud_barkot_y['0.3'].drop('Unnamed: 0',axis=1)\n",
    "ud_barkot_y['0.3'].columns=cols_1\n",
    "ud_barkot_y['0.5']=ud_barkot_y['0.5'].drop('Unnamed: 0',axis=1)\n",
    "ud_barkot_y['0.5'].columns=cols_1\n",
    "ud_barkot_y['0.7']=ud_barkot_y['0.7'].drop('Unnamed: 0',axis=1)\n",
    "ud_barkot_y['0.7'].columns=cols_1"
   ]
  },
  {
   "cell_type": "code",
   "execution_count": 110,
   "metadata": {},
   "outputs": [],
   "source": [
    "ud_barkot={}\n",
    "\n",
    "i=0\n",
    "while(i<4):\n",
    "    ud_barkot[str(g1[i])]=p.DataFrame(p.concat((ud_barkot_x[str(g1[i])],ud_barkot_y[str(g1[i])]),axis=0))\n",
    "    ud_barkot[str(g1[i])].reset_index(drop=True,inplace=True)\n",
    "    i+=1"
   ]
  },
  {
   "cell_type": "code",
   "execution_count": 111,
   "metadata": {},
   "outputs": [],
   "source": [
    "d_barkot_x={}\n",
    "\n",
    "file_list_27=glob.glob(path_7+\"barkot acc X *(D).csv\")\n",
    "for file_path in file_list_27:\n",
    "    d_barkot_x[file_path[file_path.rfind(' ')+1:-7]]=p.DataFrame(p.read_csv(file_path))\n",
    "    for column in d_barkot_x[file_path[file_path.rfind(' ')+1:-7]].columns:\n",
    "        if column in missing_joints:\n",
    "            d_barkot_x[file_path[file_path.rfind(' ')+1:-7]]=d_barkot_x[file_path[file_path.rfind(' ')+1:-7]].drop(column,axis=1) \n",
    "    \n",
    "d_barkot_y={}\n",
    "\n",
    "file_list_28=glob.glob(path_7+\"barkot acc Y *(D).csv\")\n",
    "for file_path in file_list_28:\n",
    "    d_barkot_y[file_path[file_path.rfind(' ')+1:-7]]=p.DataFrame(p.read_csv(file_path))\n",
    "    for column in d_barkot_y[file_path[file_path.rfind(' ')+1:-7]].columns:\n",
    "        if column in missing_joints:\n",
    "            d_barkot_y[file_path[file_path.rfind(' ')+1:-7]]=d_barkot_y[file_path[file_path.rfind(' ')+1:-7]].drop(column,axis=1) "
   ]
  },
  {
   "cell_type": "code",
   "execution_count": 112,
   "metadata": {},
   "outputs": [],
   "source": [
    "d_barkot_x['1']=d_barkot_x['1'].drop('Unnamed: 0',axis=1)\n",
    "d_barkot_x['2']=d_barkot_x['2'].drop('Unnamed: 0',axis=1)\n",
    "d_barkot_x['3']=d_barkot_x['3'].drop('Unnamed: 0',axis=1)\n",
    "\n",
    "d_barkot_y['1']=d_barkot_y['1'].drop('Unnamed: 0',axis=1)\n",
    "d_barkot_y['2']=d_barkot_y['2'].drop('Unnamed: 0',axis=1)\n",
    "d_barkot_y['3']=d_barkot_y['3'].drop('Unnamed: 0',axis=1)\n",
    "\n",
    "d_barkot_x['1'].columns=cols_1\n",
    "d_barkot_x['2'].columns=cols_1\n",
    "d_barkot_x['3'].columns=cols_1\n",
    "\n",
    "d_barkot_y['1'].columns=cols_1\n",
    "d_barkot_y['2'].columns=cols_1\n",
    "d_barkot_y['3'].columns=cols_1"
   ]
  },
  {
   "cell_type": "code",
   "execution_count": 113,
   "metadata": {},
   "outputs": [],
   "source": [
    "d_barkot={}\n",
    "\n",
    "i=0\n",
    "while(i<3):\n",
    "    d_barkot[str(g4[i])]=p.DataFrame(p.concat((d_barkot_x[str(g4[i])],d_barkot_y[str(g4[i])]),axis=0))\n",
    "    d_barkot[str(g4[i])].reset_index(drop=True,inplace=True)\n",
    "    i+=1"
   ]
  },
  {
   "cell_type": "markdown",
   "metadata": {},
   "source": [
    "## Chamoli"
   ]
  },
  {
   "cell_type": "code",
   "execution_count": 114,
   "metadata": {},
   "outputs": [],
   "source": [
    "ud_chamoli_x={}\n",
    "\n",
    "file_list_29=glob.glob(path_8+\"chamoli ACC X *(U).csv\")\n",
    "for file_path in file_list_29:\n",
    "    ud_chamoli_x[file_path[file_path.rfind(' ')+1:-7]]=p.DataFrame(p.read_csv(file_path))\n",
    "    for column in ud_chamoli_x[file_path[file_path.rfind(' ')+1:-7]].columns:\n",
    "        if column in missing_joints:\n",
    "            ud_chamoli_x[file_path[file_path.rfind(' ')+1:-7]]=ud_chamoli_x[file_path[file_path.rfind(' ')+1:-7]].drop(column,axis=1) \n",
    "    \n",
    "ud_chamoli_y={}\n",
    "\n",
    "file_list_30=glob.glob(path_8+\"chamoli ACC Y *(U).csv\")\n",
    "for file_path in file_list_30:\n",
    "    ud_chamoli_y[file_path[file_path.rfind(' ')+1:-7]]=p.DataFrame(p.read_csv(file_path))\n",
    "    for column in ud_chamoli_y[file_path[file_path.rfind(' ')+1:-7]].columns:\n",
    "        if column in missing_joints:\n",
    "            ud_chamoli_y[file_path[file_path.rfind(' ')+1:-7]]=ud_chamoli_y[file_path[file_path.rfind(' ')+1:-7]].drop(column,axis=1) "
   ]
  },
  {
   "cell_type": "code",
   "execution_count": 115,
   "metadata": {},
   "outputs": [],
   "source": [
    "ud_chamoli_x['0.1']=ud_chamoli_x['0.1'].drop('Unnamed: 0',axis=1)\n",
    "ud_chamoli_x['0.1'].columns=cols_1\n",
    "ud_chamoli_x['0.3']=ud_chamoli_x['0.3'].drop('Unnamed: 0',axis=1)\n",
    "ud_chamoli_x['0.3'].columns=cols_1\n",
    "ud_chamoli_x['0.5']=ud_chamoli_x['0.5'].drop('Unnamed: 0',axis=1)\n",
    "ud_chamoli_x['0.5'].columns=cols_1\n",
    "ud_chamoli_x['0.7']=ud_chamoli_x['0.7'].drop('Unnamed: 0',axis=1)\n",
    "ud_chamoli_x['0.7'].columns=cols_1\n",
    "ud_chamoli_x['1']=ud_chamoli_x['1'].drop('Unnamed: 0',axis=1)\n",
    "ud_chamoli_x['1'].columns=cols_1\n",
    "\n",
    "ud_chamoli_y['0.1']=ud_chamoli_y['0.1'].drop('Unnamed: 0',axis=1)\n",
    "ud_chamoli_y['0.1'].columns=cols_1\n",
    "ud_chamoli_y['0.3']=ud_chamoli_y['0.3'].drop('Unnamed: 0',axis=1)\n",
    "ud_chamoli_y['0.3'].columns=cols_1\n",
    "ud_chamoli_y['0.5']=ud_chamoli_y['0.5'].drop('Unnamed: 0',axis=1)\n",
    "ud_chamoli_y['0.5'].columns=cols_1\n",
    "ud_chamoli_y['0.7']=ud_chamoli_y['0.7'].drop('Unnamed: 0',axis=1)\n",
    "ud_chamoli_y['0.7'].columns=cols_1\n",
    "ud_chamoli_y['1']=ud_chamoli_y['1'].drop('Unnamed: 0',axis=1)\n",
    "ud_chamoli_y['1'].columns=cols_1"
   ]
  },
  {
   "cell_type": "code",
   "execution_count": 116,
   "metadata": {},
   "outputs": [],
   "source": [
    "ud_chamoli={}\n",
    "\n",
    "i=0\n",
    "while(i<5):\n",
    "    ud_chamoli[str(g7[i])]=p.DataFrame(p.concat((ud_chamoli_x[str(g7[i])],ud_chamoli_y[str(g7[i])]),axis=0))\n",
    "    ud_chamoli[str(g7[i])].reset_index(drop=True,inplace=True)\n",
    "    i+=1"
   ]
  },
  {
   "cell_type": "code",
   "execution_count": 117,
   "metadata": {},
   "outputs": [],
   "source": [
    "d_chamoli_x={}\n",
    "\n",
    "file_list_31=glob.glob(path_8+\"chamoli ACC X *(D).csv\")\n",
    "for file_path in file_list_31:\n",
    "    d_chamoli_x[file_path[file_path.rfind(' ')+1:-7]]=p.DataFrame(p.read_csv(file_path))\n",
    "    for column in d_chamoli_x[file_path[file_path.rfind(' ')+1:-7]].columns:\n",
    "        if column in missing_joints:\n",
    "            d_chamoli_x[file_path[file_path.rfind(' ')+1:-7]]=d_chamoli_x[file_path[file_path.rfind(' ')+1:-7]].drop(column,axis=1) \n",
    "        \n",
    "        \n",
    "d_chamoli_y={}\n",
    "\n",
    "file_list_32=glob.glob(path_8+\"chamoli ACC Y *(D).csv\")\n",
    "for file_path in file_list_32:\n",
    "    d_chamoli_y[file_path[file_path.rfind(' ')+1:-7]]=p.DataFrame(p.read_csv(file_path))\n",
    "    for column in d_chamoli_y[file_path[file_path.rfind(' ')+1:-7]].columns:\n",
    "        if column in missing_joints:\n",
    "            d_chamoli_y[file_path[file_path.rfind(' ')+1:-7]]=d_chamoli_y[file_path[file_path.rfind(' ')+1:-7]].drop(column,axis=1) "
   ]
  },
  {
   "cell_type": "code",
   "execution_count": 118,
   "metadata": {},
   "outputs": [],
   "source": [
    "d_chamoli_x['2']=d_chamoli_x['2'].drop('Unnamed: 0',axis=1)\n",
    "d_chamoli_x['2'].columns=cols_1\n",
    "d_chamoli_x['3']=d_chamoli_x['3'].drop('Unnamed: 0',axis=1)\n",
    "d_chamoli_x['3'].columns=cols_1\n",
    "\n",
    "d_chamoli_y['2']=d_chamoli_y['2'].drop('Unnamed: 0',axis=1)\n",
    "d_chamoli_y['2'].columns=cols_1\n",
    "d_chamoli_y['3']=d_chamoli_y['3'].drop('Unnamed: 0',axis=1)\n",
    "d_chamoli_y['3'].columns=cols_1"
   ]
  },
  {
   "cell_type": "code",
   "execution_count": 119,
   "metadata": {},
   "outputs": [],
   "source": [
    "d_chamoli={}\n",
    "\n",
    "i=0\n",
    "while(i<2):\n",
    "    d_chamoli[str(g8[i])]=p.DataFrame(p.concat((d_chamoli_x[str(g8[i])],d_chamoli_y[str(g8[i])]),axis=0))\n",
    "    d_chamoli[str(g8[i])].reset_index(drop=True,inplace=True)\n",
    "    i+=1"
   ]
  },
  {
   "cell_type": "markdown",
   "metadata": {},
   "source": [
    "## Cherapunji"
   ]
  },
  {
   "cell_type": "code",
   "execution_count": 120,
   "metadata": {},
   "outputs": [],
   "source": [
    "ud_cherapunji_x={}\n",
    "\n",
    "file_list_33=glob.glob(path_9+\"cherapunji ACC X 0.*(U).csv\")\n",
    "for file_path in file_list_33:\n",
    "    ud_cherapunji_x[file_path[file_path.rfind('0'):-7]]=p.DataFrame(p.read_csv(file_path))\n",
    "    for column in ud_cherapunji_x[file_path[file_path.rfind('0'):-7]].columns:\n",
    "        if column in missing_joints:\n",
    "            ud_cherapunji_x[file_path[file_path.rfind('0'):-7]]=ud_cherapunji_x[file_path[file_path.rfind('0'):-7]].drop(column,axis=1) \n",
    "    \n",
    "ud_cherapunji_y={}\n",
    "\n",
    "file_list_34=glob.glob(path_9+\"cherapunji ACC Y 0.*(U).csv\")\n",
    "for file_path in file_list_34:\n",
    "    ud_cherapunji_y[file_path[file_path.rfind('0'):-7]]=p.DataFrame(p.read_csv(file_path))\n",
    "    for column in ud_cherapunji_y[file_path[file_path.rfind('0'):-7]].columns:\n",
    "        if column in missing_joints:\n",
    "            ud_cherapunji_y[file_path[file_path.rfind('0'):-7]]=ud_cherapunji_y[file_path[file_path.rfind('0'):-7]].drop(column,axis=1) "
   ]
  },
  {
   "cell_type": "code",
   "execution_count": 121,
   "metadata": {},
   "outputs": [],
   "source": [
    "ud_cherapunji_x['0.1']=ud_cherapunji_x['0.1'].drop('Unnamed: 0',axis=1)\n",
    "ud_cherapunji_x['0.1'].columns=cols_1\n",
    "ud_cherapunji_x['0.3']=ud_cherapunji_x['0.3'].drop('Unnamed: 0',axis=1)\n",
    "ud_cherapunji_x['0.3'].columns=cols_1\n",
    "\n",
    "ud_cherapunji_y['0.1']=ud_cherapunji_y['0.1'].drop('Unnamed: 0',axis=1)\n",
    "ud_cherapunji_y['0.1'].columns=cols_1\n",
    "ud_cherapunji_y['0.3']=ud_cherapunji_y['0.3'].drop('Unnamed: 0',axis=1)\n",
    "ud_cherapunji_y['0.3'].columns=cols_1"
   ]
  },
  {
   "cell_type": "code",
   "execution_count": 122,
   "metadata": {},
   "outputs": [],
   "source": [
    "ud_cherapunji={}\n",
    "\n",
    "i=0\n",
    "while(i<2):\n",
    "    ud_cherapunji[str(g9[i])]=p.DataFrame(p.concat((ud_chamoli_x[str(g9[i])],ud_cherapunji_y[str(g9[i])]),axis=0))\n",
    "    ud_cherapunji[str(g9[i])].reset_index(drop=True,inplace=True)\n",
    "    i+=1"
   ]
  },
  {
   "cell_type": "code",
   "execution_count": 123,
   "metadata": {},
   "outputs": [],
   "source": [
    "d_cherapunji_x={}\n",
    "\n",
    "file_list_35=glob.glob(path_9+\"cherapunji ACC X *(D).csv\")\n",
    "for file_path in file_list_35:\n",
    "    d_cherapunji_x[file_path[file_path.rfind(' ')+1:-7]]=p.DataFrame(p.read_csv(file_path))\n",
    "    for column in d_cherapunji_x[file_path[file_path.rfind(' ')+1:-7]].columns:\n",
    "        if column in missing_joints:\n",
    "            d_cherapunji_x[file_path[file_path.rfind(' ')+1:-7]]=d_cherapunji_x[file_path[file_path.rfind(' ')+1:-7]].drop(column,axis=1) \n",
    "      \n",
    "        \n",
    "d_cherapunji_y={}\n",
    "\n",
    "file_list_36=glob.glob(path_9+\"cherapunji ACC Y *(D).csv\")\n",
    "for file_path in file_list_36:\n",
    "    d_cherapunji_y[file_path[file_path.rfind(' ')+1:-7]]=p.DataFrame(p.read_csv(file_path))\n",
    "    for column in d_cherapunji_y[file_path[file_path.rfind(' ')+1:-7]].columns:\n",
    "        if column in missing_joints:\n",
    "            d_cherapunji_y[file_path[file_path.rfind(' ')+1:-7]]=d_cherapunji_y[file_path[file_path.rfind(' ')+1:-7]].drop(column,axis=1) "
   ]
  },
  {
   "cell_type": "code",
   "execution_count": 124,
   "metadata": {},
   "outputs": [],
   "source": [
    "d_cherapunji_x['0.7']=d_cherapunji_x['0.7'].drop('Unnamed: 0',axis=1)\n",
    "d_cherapunji_x['1']=d_cherapunji_x['1'].drop('Unnamed: 0',axis=1)\n",
    "d_cherapunji_x['2']=d_cherapunji_x['2'].drop('Unnamed: 0',axis=1)\n",
    "d_cherapunji_x['0.5']=d_cherapunji_x['0.5'].drop('Unnamed: 0',axis=1)\n",
    "\n",
    "d_cherapunji_y['0.7']=d_cherapunji_y['0.7'].drop('Unnamed: 0',axis=1)\n",
    "d_cherapunji_y['1']=d_cherapunji_y['1'].drop('Unnamed: 0',axis=1)\n",
    "d_cherapunji_y['2']=d_cherapunji_y['2'].drop('Unnamed: 0',axis=1)\n",
    "d_cherapunji_y['0.5']=d_cherapunji_y['0.5'].drop('Unnamed: 0',axis=1)\n",
    "\n",
    "d_cherapunji_x['1'].columns=cols_1\n",
    "d_cherapunji_x['0.5'].columns=cols_1\n",
    "d_cherapunji_x['2'].columns=cols_1\n",
    "d_cherapunji_x['0.7'].columns=cols_1\n",
    "\n",
    "d_cherapunji_y['1'].columns=cols_1\n",
    "d_cherapunji_y['0.5'].columns=cols_1\n",
    "d_cherapunji_y['2'].columns=cols_1\n",
    "d_cherapunji_y['0.7'].columns=cols_1"
   ]
  },
  {
   "cell_type": "code",
   "execution_count": 125,
   "metadata": {},
   "outputs": [],
   "source": [
    "d_cherapunji={}\n",
    "\n",
    "i=0\n",
    "while(i<4):\n",
    "    d_cherapunji[str(g10[i])]=p.DataFrame(p.concat((d_cherapunji_x[str(g10[i])],d_cherapunji_y[str(g10[i])]),axis=0))\n",
    "    d_cherapunji[str(g10[i])].reset_index(drop=True,inplace=True)\n",
    "    i+=1"
   ]
  },
  {
   "cell_type": "markdown",
   "metadata": {},
   "source": [
    "## Ghansali"
   ]
  },
  {
   "cell_type": "code",
   "execution_count": 126,
   "metadata": {},
   "outputs": [],
   "source": [
    "ud_ghansali_x={}\n",
    "\n",
    "file_list_37=glob.glob(path_10+\"ghansali acc X 0.*(U).csv\")\n",
    "for file_path in file_list_37:\n",
    "    ud_ghansali_x[file_path[file_path.rfind('0'):-7]]=p.DataFrame(p.read_csv(file_path))\n",
    "    for column in ud_ghansali_x[file_path[file_path.rfind('0'):-7]].columns:\n",
    "        if column in missing_joints:\n",
    "            ud_ghansali_x[file_path[file_path.rfind('0'):-7]]=ud_ghansali_x[file_path[file_path.rfind('0'):-7]].drop(column,axis=1) \n",
    "        \n",
    "ud_ghansali_y={}\n",
    "\n",
    "file_list_38=glob.glob(path_10+\"ghansali acc Y 0.*(U).csv\")\n",
    "for file_path in file_list_38:\n",
    "    ud_ghansali_y[file_path[file_path.rfind('0'):-7]]=p.DataFrame(p.read_csv(file_path))\n",
    "    for column in ud_ghansali_y[file_path[file_path.rfind('0'):-7]].columns:\n",
    "        if column in missing_joints:\n",
    "            ud_ghansali_y[file_path[file_path.rfind('0'):-7]]=ud_ghansali_y[file_path[file_path.rfind('0'):-7]].drop(column,axis=1) "
   ]
  },
  {
   "cell_type": "code",
   "execution_count": 127,
   "metadata": {},
   "outputs": [],
   "source": [
    "ud_ghansali_x['0.1']=ud_ghansali_x['0.1'].drop('Unnamed: 0',axis=1)\n",
    "ud_ghansali_x['0.3']=ud_ghansali_x['0.3'].drop('Unnamed: 0',axis=1)\n",
    "ud_ghansali_x['0.5']=ud_ghansali_x['0.5'].drop('Unnamed: 0',axis=1)\n",
    "ud_ghansali_x['0.1'].columns=cols_1\n",
    "ud_ghansali_x['0.3'].columns=cols_1\n",
    "ud_ghansali_x['0.5'].columns=cols_1\n",
    "\n",
    "ud_ghansali_y['0.1']=ud_ghansali_y['0.1'].drop('Unnamed: 0',axis=1)\n",
    "ud_ghansali_y['0.3']=ud_ghansali_y['0.3'].drop('Unnamed: 0',axis=1)\n",
    "ud_ghansali_y['0.5']=ud_ghansali_y['0.5'].drop('Unnamed: 0',axis=1)\n",
    "ud_ghansali_y['0.1'].columns=cols_1\n",
    "ud_ghansali_y['0.3'].columns=cols_1\n",
    "ud_ghansali_y['0.5'].columns=cols_1"
   ]
  },
  {
   "cell_type": "code",
   "execution_count": 128,
   "metadata": {},
   "outputs": [],
   "source": [
    "ud_ghansali={}\n",
    "\n",
    "i=0\n",
    "while(i<3):\n",
    "    ud_ghansali[str(g2[i])]=p.DataFrame(p.concat((ud_ghansali_x[str(g2[i])],ud_ghansali_y[str(g2[i])]),axis=0))\n",
    "    ud_ghansali[str(g2[i])].reset_index(drop=True,inplace=True)\n",
    "    i+=1"
   ]
  },
  {
   "cell_type": "code",
   "execution_count": 129,
   "metadata": {},
   "outputs": [],
   "source": [
    "d_ghansali_x={}\n",
    "\n",
    "file_list_39=glob.glob(path_10+\"ghansali acc X *(D).csv\")\n",
    "for file_path in file_list_39:\n",
    "    d_ghansali_x[file_path[file_path.rfind(' ')+1:-7]]=p.DataFrame(p.read_csv(file_path))\n",
    "    for column in d_ghansali_x[file_path[file_path.rfind(' ')+1:-7]].columns:\n",
    "        if column in missing_joints:\n",
    "            d_ghansali_x[file_path[file_path.rfind(' ')+1:-7]]=d_ghansali_x[file_path[file_path.rfind(' ')+1:-7]].drop(column,axis=1) \n",
    "        \n",
    "d_ghansali_y={}\n",
    "\n",
    "file_list_40=glob.glob(path_10+\"ghansali acc Y *(D).csv\")\n",
    "for file_path in file_list_40:\n",
    "    d_ghansali_y[file_path[file_path.rfind(' ')+1:-7]]=p.DataFrame(p.read_csv(file_path))\n",
    "    for column in d_ghansali_y[file_path[file_path.rfind(' ')+1:-7]].columns:\n",
    "        if column in missing_joints:\n",
    "            d_ghansali_y[file_path[file_path.rfind(' ')+1:-7]]=d_ghansali_y[file_path[file_path.rfind(' ')+1:-7]].drop(column,axis=1)"
   ]
  },
  {
   "cell_type": "code",
   "execution_count": 130,
   "metadata": {},
   "outputs": [],
   "source": [
    "d_ghansali_x['0.7']=d_ghansali_x['0.7'].drop('Unnamed: 0',axis=1)\n",
    "d_ghansali_x['1']=d_ghansali_x['1'].drop('Unnamed: 0',axis=1)\n",
    "d_ghansali_x['2']=d_ghansali_x['2'].drop('Unnamed: 0',axis=1)\n",
    "d_ghansali_x['3']=d_ghansali_x['3'].drop('Unnamed: 0',axis=1)\n",
    "\n",
    "d_ghansali_y['0.7']=d_ghansali_y['0.7'].drop('Unnamed: 0',axis=1)\n",
    "d_ghansali_y['1']=d_ghansali_y['1'].drop('Unnamed: 0',axis=1)\n",
    "d_ghansali_y['2']=d_ghansali_y['2'].drop('Unnamed: 0',axis=1)\n",
    "d_ghansali_y['3']=d_ghansali_y['3'].drop('Unnamed: 0',axis=1)\n",
    "\n",
    "d_ghansali_x['1'].columns=cols_1\n",
    "d_ghansali_x['3'].columns=cols_1\n",
    "d_ghansali_x['2'].columns=cols_1\n",
    "d_ghansali_x['0.7'].columns=cols_1\n",
    "\n",
    "d_ghansali_y['1'].columns=cols_1\n",
    "d_ghansali_y['3'].columns=cols_1\n",
    "d_ghansali_y['2'].columns=cols_1\n",
    "d_ghansali_y['0.7'].columns=cols_1"
   ]
  },
  {
   "cell_type": "code",
   "execution_count": 131,
   "metadata": {},
   "outputs": [],
   "source": [
    "d_ghansali={}\n",
    "\n",
    "i=0\n",
    "while(i<4):\n",
    "    d_ghansali[str(g3[i])]=p.DataFrame(p.concat((d_ghansali_x[str(g3[i])],d_ghansali_y[str(g3[i])]),axis=0))\n",
    "    d_ghansali[str(g3[i])].reset_index(drop=True,inplace=True)\n",
    "    i+=1"
   ]
  },
  {
   "cell_type": "markdown",
   "metadata": {},
   "source": [
    "## Koomber"
   ]
  },
  {
   "cell_type": "code",
   "execution_count": 132,
   "metadata": {},
   "outputs": [],
   "source": [
    "ud_koomber_x={}\n",
    "\n",
    "file_list_41=glob.glob(path_11+\"KOOMBER ACC X 0.*(U).csv\")\n",
    "for file_path in file_list_41:\n",
    "    ud_koomber_x[file_path[file_path.rfind('0'):-7]]=p.DataFrame(p.read_csv(file_path))\n",
    "    for column in ud_koomber_x[file_path[file_path.rfind('0'):-7]].columns:\n",
    "        if column in missing_joints:\n",
    "            ud_koomber_x[file_path[file_path.rfind('0'):-7]]=ud_koomber_x[file_path[file_path.rfind('0'):-7]].drop(column,axis=1) \n",
    "    \n",
    "ud_koomber_y={}\n",
    "\n",
    "file_list_42=glob.glob(path_11+\"KOOMBER ACC Y 0.*(U).csv\")\n",
    "for file_path in file_list_42:\n",
    "    ud_koomber_y[file_path[file_path.rfind('0'):-7]]=p.DataFrame(p.read_csv(file_path))\n",
    "    for column in ud_koomber_y[file_path[file_path.rfind('0'):-7]].columns:\n",
    "        if column in missing_joints:\n",
    "            ud_koomber_y[file_path[file_path.rfind('0'):-7]]=ud_koomber_y[file_path[file_path.rfind('0'):-7]].drop(column,axis=1) "
   ]
  },
  {
   "cell_type": "code",
   "execution_count": 133,
   "metadata": {},
   "outputs": [],
   "source": [
    "ud_koomber_x['0.1']=ud_koomber_x['0.1'].drop('Unnamed: 0',axis=1)\n",
    "ud_koomber_x['0.1'].columns=cols_1\n",
    "ud_koomber_x['0.3']=ud_koomber_x['0.3'].drop('Unnamed: 0',axis=1)\n",
    "ud_koomber_x['0.3'].columns=cols_1\n",
    "\n",
    "ud_koomber_y['0.1']=ud_koomber_y['0.1'].drop('Unnamed: 0',axis=1)\n",
    "ud_koomber_y['0.1'].columns=cols_1\n",
    "ud_koomber_y['0.3']=ud_koomber_y['0.3'].drop('Unnamed: 0',axis=1)\n",
    "ud_koomber_y['0.3'].columns=cols_1"
   ]
  },
  {
   "cell_type": "code",
   "execution_count": 134,
   "metadata": {},
   "outputs": [],
   "source": [
    "ud_koomber={}\n",
    "\n",
    "i=0\n",
    "while(i<2):\n",
    "    ud_koomber[str(g9[i])]=p.DataFrame(p.concat((ud_koomber_x[str(g9[i])],ud_koomber_y[str(g9[i])]),axis=0))\n",
    "    ud_koomber[str(g9[i])].reset_index(drop=True,inplace=True)\n",
    "    i+=1"
   ]
  },
  {
   "cell_type": "code",
   "execution_count": 135,
   "metadata": {},
   "outputs": [],
   "source": [
    "d_koomber_x={}\n",
    "\n",
    "file_list_43=glob.glob(path_11+\"KOOMBER ACC X *(D).csv\")\n",
    "for file_path in file_list_43:\n",
    "    d_koomber_x[file_path[file_path.rfind(' ')+1:-7]]=p.DataFrame(p.read_csv(file_path))\n",
    "    for column in d_koomber_x[file_path[file_path.rfind(' ')+1:-7]].columns:\n",
    "        if column in missing_joints:\n",
    "            d_koomber_x[file_path[file_path.rfind(' ')+1:-7]]=d_koomber_x[file_path[file_path.rfind(' ')+1:-7]].drop(column,axis=1) \n",
    "      \n",
    "        \n",
    "d_koomber_y={}\n",
    "\n",
    "file_list_44=glob.glob(path_11+\"KOOMBER ACC Y *(D).csv\")\n",
    "for file_path in file_list_44:\n",
    "    d_koomber_y[file_path[file_path.rfind(' ')+1:-7]]=p.DataFrame(p.read_csv(file_path))\n",
    "    for column in d_koomber_y[file_path[file_path.rfind(' ')+1:-7]].columns:\n",
    "        if column in missing_joints:\n",
    "            d_koomber_y[file_path[file_path.rfind(' ')+1:-7]]=d_koomber_y[file_path[file_path.rfind(' ')+1:-7]].drop(column,axis=1) "
   ]
  },
  {
   "cell_type": "code",
   "execution_count": 136,
   "metadata": {},
   "outputs": [],
   "source": [
    "d_koomber_x['0.7']=d_koomber_x['0.7'].drop('Unnamed: 0',axis=1)\n",
    "d_koomber_x['1']=d_koomber_x['1'].drop('Unnamed: 0',axis=1)\n",
    "d_koomber_x['2']=d_koomber_x['2'].drop('Unnamed: 0',axis=1)\n",
    "d_koomber_x['3']=d_koomber_x['3'].drop('Unnamed: 0',axis=1)\n",
    "d_koomber_x['0.5']=d_koomber_x['0.5'].drop('Unnamed: 0',axis=1)\n",
    "\n",
    "d_koomber_y['0.7']=d_koomber_y['0.7'].drop('Unnamed: 0',axis=1)\n",
    "d_koomber_y['1']=d_koomber_y['1'].drop('Unnamed: 0',axis=1)\n",
    "d_koomber_y['2']=d_koomber_y['2'].drop('Unnamed: 0',axis=1)\n",
    "d_koomber_y['3']=d_koomber_y['3'].drop('Unnamed: 0',axis=1)\n",
    "d_koomber_y['0.5']=d_koomber_y['0.5'].drop('Unnamed: 0',axis=1)\n",
    "\n",
    "d_koomber_x['1'].columns=cols_1\n",
    "d_koomber_x['0.5'].columns=cols_1\n",
    "d_koomber_x['2'].columns=cols_1\n",
    "d_koomber_x['3'].columns=cols_1\n",
    "d_koomber_x['0.7'].columns=cols_1\n",
    "\n",
    "d_koomber_y['1'].columns=cols_1\n",
    "d_koomber_y['0.5'].columns=cols_1\n",
    "d_koomber_y['2'].columns=cols_1\n",
    "d_koomber_y['3'].columns=cols_1\n",
    "d_koomber_y['0.7'].columns=cols_1"
   ]
  },
  {
   "cell_type": "code",
   "execution_count": 137,
   "metadata": {},
   "outputs": [],
   "source": [
    "d_koomber={}\n",
    "\n",
    "i=0\n",
    "while(i<5):\n",
    "    d_koomber[str(g11[i])]=p.DataFrame(p.concat((d_koomber_x[str(g11[i])],d_koomber_y[str(g11[i])]),axis=0))\n",
    "    d_koomber[str(g11[i])].reset_index(drop=True,inplace=True)\n",
    "    i+=1"
   ]
  },
  {
   "cell_type": "markdown",
   "metadata": {},
   "source": [
    "## Assembling all the data as damaged/undamaged"
   ]
  },
  {
   "cell_type": "code",
   "execution_count": 138,
   "metadata": {},
   "outputs": [],
   "source": [
    "damaged={}\n",
    "damaged={0:d_northridge,1:d_berlongfer,2:d_uttarkashi,3:d_sanfrandose,4:d_bamu,5:d_kangra,6:d_barkot,7:d_chamoli,8:d_cherapunji,9:d_ghansali,10:d_koomber}\n",
    "\n",
    "undamaged={}\n",
    "undamaged={0:ud_northridge,1:ud_berlongfer,2:ud_uttarkashi,3:ud_sanfrandose,4:ud_bamu,5:ud_kangra,6:ud_barkot,7:ud_chamoli,8:ud_cherapunji,9:ud_ghansali,10:ud_koomber}"
   ]
  },
  {
   "cell_type": "code",
   "execution_count": 143,
   "metadata": {},
   "outputs": [],
   "source": [
    "D_Input={}\n",
    "\n",
    "for i in cols_1:\n",
    "    D_Input[i]=p.DataFrame()\n",
    "    for g in g4:\n",
    "        D_Input[i]=D_Input[i].append(damaged[0][str(g)][i])\n",
    "    for g in g3:\n",
    "        D_Input[i]=D_Input[i].append(damaged[1][str(g)][i])\n",
    "    for g in g3:\n",
    "        D_Input[i]=D_Input[i].append(damaged[2][str(g)][i])\n",
    "    for g in g6:\n",
    "        D_Input[i]=D_Input[i].append(damaged[3][str(g)][i])\n",
    "    for g in g3:\n",
    "        D_Input[i]=D_Input[i].append(damaged[4][str(g)][i])\n",
    "    for g in g4:\n",
    "        D_Input[i]=D_Input[i].append(damaged[5][str(g)][i])\n",
    "    for g in g4:\n",
    "        D_Input[i]=D_Input[i].append(damaged[6][str(g)][i])\n",
    "    for g in g8:\n",
    "        D_Input[i]=D_Input[i].append(damaged[7][str(g)][i])\n",
    "    for g in g10:\n",
    "        D_Input[i]=D_Input[i].append(damaged[8][str(g)][i])\n",
    "    for g in g3:\n",
    "        D_Input[i]=D_Input[i].append(damaged[9][str(g)][i])\n",
    "    for g in g11:\n",
    "        D_Input[i]=D_Input[i].append(damaged[10][str(g)][i])\n",
    "    D_Input[i].reset_index(drop=True,inplace=True)\n",
    "    \n",
    "UD_Input={}\n",
    "\n",
    "for i in cols_1:\n",
    "    UD_Input[i]=p.DataFrame()\n",
    "    for g in g1:\n",
    "        UD_Input[i]=UD_Input[i].append(undamaged[0][str(g)][i])\n",
    "    for g in g2:\n",
    "        UD_Input[i]=UD_Input[i].append(undamaged[1][str(g)][i])\n",
    "    for g in g2:\n",
    "        UD_Input[i]=UD_Input[i].append(undamaged[2][str(g)][i])\n",
    "    for g in g5:\n",
    "        UD_Input[i]=UD_Input[i].append(undamaged[3][str(g)][i])\n",
    "    for g in g2:\n",
    "        UD_Input[i]=UD_Input[i].append(undamaged[4][str(g)][i])\n",
    "    for g in g1:\n",
    "        UD_Input[i]=UD_Input[i].append(undamaged[5][str(g)][i])\n",
    "    for g in g1:\n",
    "        UD_Input[i]=UD_Input[i].append(undamaged[6][str(g)][i])\n",
    "    for g in g7:\n",
    "        UD_Input[i]=UD_Input[i].append(undamaged[7][str(g)][i])\n",
    "    for g in g9:\n",
    "        UD_Input[i]=UD_Input[i].append(undamaged[8][str(g)][i])\n",
    "    for g in g2:\n",
    "        UD_Input[i]=UD_Input[i].append(undamaged[9][str(g)][i])\n",
    "    for g in g9:\n",
    "        UD_Input[i]=UD_Input[i].append(undamaged[10][str(g)][i])\n",
    "    UD_Input[i].reset_index(drop=True,inplace=True)\n",
    "    "
   ]
  },
  {
   "cell_type": "code",
   "execution_count": 145,
   "metadata": {},
   "outputs": [],
   "source": [
    "d_y={}\n",
    "\n",
    "for key in cols_1:\n",
    "    d_y[key]=p.Series()\n",
    "    for i in range(D_Input[key].shape[0]):\n",
    "        d_y[key].loc[i]=n.float64(0)\n",
    "        \n",
    "ud_y={}\n",
    "\n",
    "for key in cols_1:\n",
    "    ud_y[key]=p.Series()\n",
    "    for i in range(UD_Input[key].shape[0]):\n",
    "        ud_y[key].loc[i]=n.float64(1)"
   ]
  },
  {
   "cell_type": "code",
   "execution_count": 154,
   "metadata": {},
   "outputs": [],
   "source": [
    "for key in cols_1:\n",
    "    D_Input[key].to_csv((\"C:\\\\Users\\\\Shagun Sharma\\\\Desktop\\\\Projects\\\\DATASET\\\\DATA\\\\Input\\\\Damaged\\\\Joint_\"+str(key+1)+\".csv\"),index=False)\n",
    "for key in cols_1:\n",
    "    UD_Input[key].to_csv((\"C:\\\\Users\\\\Shagun Sharma\\\\Desktop\\\\Projects\\\\DATASET\\\\DATA\\\\Input\\\\Undamaged\\\\Joint_\"+str(key+1)+\".csv\"),index=False)\n",
    "\n",
    "for key in cols_1:\n",
    "    d_y[key].to_csv((\"C:\\\\Users\\\\Shagun Sharma\\\\Desktop\\\\Projects\\\\DATASET\\\\DATA\\\\Output\\\\Damaged\\\\Joint_\"+str(key+1)+\".csv\"),index=False)\n",
    "for key in cols_1:\n",
    "    ud_y[key].to_csv((\"C:\\\\Users\\\\Shagun Sharma\\\\Desktop\\\\Projects\\\\DATASET\\\\DATA\\\\Output\\\\Undamaged\\\\Joint_\"+str(key+1)+\".csv\"),index=False)"
   ]
  }
 ],
 "metadata": {
  "kernelspec": {
   "display_name": "Python 3",
   "language": "python",
   "name": "python3"
  },
  "language_info": {
   "codemirror_mode": {
    "name": "ipython",
    "version": 3
   },
   "file_extension": ".py",
   "mimetype": "text/x-python",
   "name": "python",
   "nbconvert_exporter": "python",
   "pygments_lexer": "ipython3",
   "version": "3.7.1"
  }
 },
 "nbformat": 4,
 "nbformat_minor": 2
}
