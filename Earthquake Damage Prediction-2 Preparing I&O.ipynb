{
 "cells": [
  {
   "cell_type": "markdown",
   "metadata": {},
   "source": [
    "# Preparing the Input & Output to feed the Network"
   ]
  },
  {
   "cell_type": "code",
   "execution_count": 1,
   "metadata": {},
   "outputs": [],
   "source": [
    "import numpy as n\n",
    "import pandas as p\n",
    "import glob\n",
    "import matplotlib.pyplot as m\n",
    "import os"
   ]
  },
  {
   "cell_type": "code",
   "execution_count": 2,
   "metadata": {},
   "outputs": [],
   "source": [
    "# path = os.getcwd()\n",
    "# print (\"The current working directory is %s\" % path)"
   ]
  },
  {
   "cell_type": "code",
   "execution_count": 3,
   "metadata": {},
   "outputs": [],
   "source": [
    "cols_1=n.concatenate([n.arange(428,440)],axis=0)\n",
    "cols_2=n.arange(1)"
   ]
  },
  {
   "cell_type": "code",
   "execution_count": 4,
   "metadata": {},
   "outputs": [],
   "source": [
    "data_path=\"D:\\\\DATASET\\\\\"\n",
    "Damaged_Input={}\n",
    "Undamaged_Input={}\n",
    "Damaged_Output={}\n",
    "Undamaged_Output={}\n",
    "\n",
    "in_list_dam=glob.glob(data_path+\"Input\\\\Damaged\\\\\"+\"Joint_*.csv\")\n",
    "in_list_undam=glob.glob(data_path+\"Input\\\\Undamaged\\\\\"+\"Joint_*.csv\")\n",
    "out_list_dam=glob.glob(data_path+\"Output\\\\Damaged\\\\\"+\"Joint_*.csv\")\n",
    "out_list_undam=glob.glob(data_path+\"Output\\\\Undamaged\\\\\"+\"Joint_*.csv\")\n",
    "\n",
    "for list_value in in_list_dam:\n",
    "    Damaged_Input[int(list_value[list_value.rfind('_')+1:-4])-1]=p.DataFrame(p.read_csv(list_value))\n",
    "for list_value in in_list_undam:\n",
    "    Undamaged_Input[int(list_value[list_value.rfind('_')+1:-4])-1]=p.DataFrame(p.read_csv(list_value))\n",
    "\n",
    "for list_value in out_list_dam:\n",
    "    Damaged_Output[int(list_value[list_value.rfind('_')+1:-4])-1]=p.DataFrame(p.read_csv(list_value,header=None))\n",
    "    Damaged_Output[int(list_value[list_value.rfind('_')+1:-4])-1].columns=cols_2\n",
    "for list_value in out_list_undam:\n",
    "    Undamaged_Output[int(list_value[list_value.rfind('_')+1:-4])-1]=p.DataFrame(p.read_csv(list_value,header=None))\n",
    "    Undamaged_Output[int(list_value[list_value.rfind('_')+1:-4])-1].columns=cols_2"
   ]
  },
  {
   "cell_type": "code",
   "execution_count": 5,
   "metadata": {},
   "outputs": [],
   "source": [
    "X={}\n",
    "\n",
    "for key in cols_1:\n",
    "    X[key]=p.DataFrame()\n",
    "    X[key]=p.concat((Damaged_Input[key],Undamaged_Input[key]),axis=0)\n",
    "    X[key].reset_index(drop=True,inplace=True)\n",
    "\n",
    "y={}\n",
    "\n",
    "for key in cols_1:\n",
    "    y[key]=p.Series()\n",
    "    y[key]=p.concat((Damaged_Output[key],Undamaged_Output[key]),axis=0)\n",
    "    y[key].reset_index(drop=True,inplace=True)"
   ]
  },
  {
   "cell_type": "code",
   "execution_count": 6,
   "metadata": {},
   "outputs": [],
   "source": [
    "from sklearn.model_selection import train_test_split\n",
    "X_train={}\n",
    "y_train={}\n",
    "X_test={}\n",
    "y_test={}\n",
    "\n",
    "for key in cols_1:\n",
    "    X_train[key],X_test[key],y_train[key],y_test[key]=train_test_split(X[key],y[key],test_size=0.20,random_state=70)\n",
    "    X_train[key].reset_index(drop=True,inplace=True)\n",
    "    X_test[key].reset_index(drop=True,inplace=True)\n",
    "    y_train[key].reset_index(drop=True,inplace=True)\n",
    "    y_test[key].reset_index(drop=True,inplace=True)\n"
   ]
  },
  {
   "cell_type": "code",
   "execution_count": 7,
   "metadata": {},
   "outputs": [],
   "source": [
    "for key in cols_1:\n",
    "    X_train[key].to_csv((\"D:\\\\DATASET\\\\X & y\\\\Train\\\\X_train\\\\X_train_\"+str(key)+\".csv\"),index=False)\n",
    "    y_train[key].to_csv((\"D:\\\\DATASET\\\\X & y\\Train\\\\y_train\\\\y_train_\"+str(key)+\".csv\"),index=False)\n",
    "    X_test[key].to_csv((\"D:\\\\DATASET\\\\X & y\\\\Test\\\\X_test\\\\X_test_\"+str(key)+\".csv\"),index=False)\n",
    "    y_test[key].to_csv((\"D:\\\\DATASET\\\\X & y\\\\Test\\\\y_test\\\\y_test_\"+str(key)+\".csv\"),index=False)"
   ]
  },
  {
   "cell_type": "markdown",
   "metadata": {},
   "source": [
    "# Spectrogram's Generator"
   ]
  },
  {
   "cell_type": "code",
   "execution_count": 8,
   "metadata": {},
   "outputs": [],
   "source": [
    "dir_path=\"D:\\\\DATASET\\\\Spectrogram_Data\\\\\"\n",
    "\n",
    "for key in cols_1:\n",
    "    name=\"X-Axis\\\\\"+\"Joint_\"+str(key)+\"\\\\Train\\\\Damaged\\\\\"\n",
    "    location=dir_path+name\n",
    "    if not os.path.exists(location):\n",
    "        os.makedirs(location)\n",
    "    name=\"X-Axis\\\\\"+\"Joint_\"+str(key)+\"\\\\Train\\\\Undamaged\\\\\"\n",
    "    location=dir_path+name\n",
    "    if not os.path.exists(location):\n",
    "        os.makedirs(location)\n",
    "    name=\"X-Axis\\\\\"+\"Joint_\"+str(key)+\"\\\\Test\\\\Damaged\\\\\"\n",
    "    location=dir_path+name\n",
    "    if not os.path.exists(location):\n",
    "        os.makedirs(location)\n",
    "    name=\"X-Axis\\\\\"+\"Joint_\"+str(key)+\"\\\\Test\\\\Undamaged\\\\\"\n",
    "    location=dir_path+name\n",
    "    if not os.path.exists(location):\n",
    "        os.makedirs(location)\n",
    "\n",
    "for key in cols_1:\n",
    "    name=\"Y-Axis\\\\\"+\"Joint_\"+str(key)+\"\\\\Train\\\\Damaged\\\\\"\n",
    "    location=dir_path+name\n",
    "    if not os.path.exists(location):\n",
    "        os.makedirs(location)\n",
    "    name=\"Y-Axis\\\\\"+\"Joint_\"+str(key)+\"\\\\Train\\\\Undamaged\\\\\"\n",
    "    location=dir_path+name\n",
    "    if not os.path.exists(location):\n",
    "        os.makedirs(location)\n",
    "    name=\"Y-Axis\\\\\"+\"Joint_\"+str(key)+\"\\\\Test\\\\Damaged\\\\\"\n",
    "    location=dir_path+name\n",
    "    if not os.path.exists(location):\n",
    "        os.makedirs(location)\n",
    "    name=\"Y-Axis\\\\\"+\"Joint_\"+str(key)+\"\\\\Test\\\\Undamaged\\\\\"\n",
    "    location=dir_path+name\n",
    "    if not os.path.exists(location):\n",
    "        os.makedirs(location)\n"
   ]
  },
  {
   "cell_type": "code",
   "execution_count": 9,
   "metadata": {},
   "outputs": [],
   "source": [
    "file_path_=\"D:\\\\DATASET\\\\X & y\\\\\"\n",
    "fig_path_1=\"D:\\\\DATASET\\\\Spectrogram_Data\\\\X-Axis\\\\\"\n",
    "fig_path_2=\"D:\\\\DATASET\\\\Spectrogram_Data\\\\Y-Axis\\\\\"\n",
    "\n",
    "from multiprocessing import Process\n",
    "\n",
    "def loop_X(split,i):\n",
    "    if split=='Train':\n",
    "        file_list_X=file_path_+\"Train\\\\X_train\\\\\"+\"X_train_\"+str(i)+\".csv\"\n",
    "        data_X=p.DataFrame(p.read_csv(file_list_X))            \n",
    "    else:\n",
    "        file_list_X=file_path_+\"Test\\\\X_test\\\\\"+\"X_test_\"+str(i)+\".csv\"\n",
    "        data_X=p.DataFrame(p.read_csv(file_list_X))        \n",
    "    return(data_X,file_list_X)\n",
    "\n",
    "def loop_Y(split,i):\n",
    "    if split=='Train':\n",
    "        file_list_Y=file_path_+\"Train\\\\y_train\\\\\"+\"y_train_\"+str(i)+\".csv\"\n",
    "        data_Y=p.DataFrame(p.read_csv(file_list_Y))            \n",
    "    else:\n",
    "        file_list_Y=file_path_+\"Test\\\\y_test\\\\\"+\"y_test_\"+str(i)+\".csv\"\n",
    "        data_Y=p.DataFrame(p.read_csv(file_list_Y)) \n",
    "    return(data_Y,file_list_Y)"
   ]
  },
  {
   "cell_type": "code",
   "execution_count": 3,
   "metadata": {},
   "outputs": [],
   "source": [
    "for i in cols_1:\n",
    "    if __name__=='__main__':\n",
    "        Process(target=loop_X,args=('Train',i)).start()\n",
    "        Process(target=loop_Y,args=('Train',i)).start()\n",
    "        data_X,file_list_X=loop_X('Train',i)\n",
    "        data_Y,file_list_Y=loop_Y('Train',i)\n",
    "        for i in range(n.int(data_X.shape[0])):\n",
    "            if data_Y.loc[i][0]==0:\n",
    "                save_loc_X=fig_path_1+\"Joint_\"+file_list_X[file_list_X.rfind('_')+1:-4]+\"\\\\Train\\\\Damaged\"\n",
    "                save_loc_Y=fig_path_2+\"Joint_\"+file_list_X[file_list_X.rfind('_')+1:-4]+\"\\\\Train\\\\Damaged\"\n",
    "                m.specgram(data_X.loc[i][0:4001],Fs=50)    \n",
    "                m.savefig(save_loc_X+\"\\\\\"+\"Spectrogram_X_\"+file_list_X[file_list_X.rfind('_')+1:-4]+\"_\"+str(i)+\".jpeg\")\n",
    "                m.specgram(data_X.loc[i][4001:8002],Fs=50)    \n",
    "                m.savefig(save_loc_Y+\"\\\\\"+\"Spectrogram_Y_\"+file_list_X[file_list_X.rfind('_')+1:-4]+\"_\"+str(i)+\".jpeg\")\n",
    "            else:\n",
    "                save_loc_X=fig_path_1+\"Joint_\"+file_list_X[file_list_X.rfind('_')+1:-4]+\"\\\\Train\\\\Undamaged\"\n",
    "                save_loc_Y=fig_path_2+\"Joint_\"+file_list_X[file_list_X.rfind('_')+1:-4]+\"\\\\Train\\\\Undamaged\"\n",
    "                m.specgram(data_X.loc[i][0:4001],Fs=50)    \n",
    "                m.savefig(save_loc_X+\"\\\\\"+\"Spectrogram_X_\"+file_list_X[file_list_X.rfind('_')+1:-4]+\"_\"+str(i)+\".jpeg\")\n",
    "                m.specgram(data_X.loc[i][4001:8002],Fs=50)    \n",
    "                m.savefig(save_loc_Y+\"\\\\\"+\"Spectrogram_Y_\"+file_list_X[file_list_X.rfind('_')+1:-4]+\"_\"+str(i)+\".jpeg\")\n",
    "            \n"
   ]
  },
  {
   "cell_type": "code",
   "execution_count": 10,
   "metadata": {},
   "outputs": [
    {
     "data": {
      "image/png": "[encoded data removed]",
      "text/plain": [
       "<Figure size 432x288 with 1 Axes>"
      ]
     },
     "metadata": {
      "needs_background": "light"
     },
     "output_type": "display_data"
    }
   ],
   "source": [
    "for i in cols_1:\n",
    "    if __name__=='__main__':\n",
    "        Process(target=loop_X,args=('Test',i)).start()\n",
    "        Process(target=loop_Y,args=('Test',i)).start()\n",
    "        data_X,file_list_X=loop_X('Test',i)\n",
    "        data_Y,file_list_Y=loop_Y('Test',i)\n",
    "        for i in range(n.int(data_X.shape[0])):\n",
    "            if data_Y.loc[i][0]==0:\n",
    "                save_loc_X=fig_path_1+\"Joint_\"+file_list_X[file_list_X.rfind('_')+1:-4]+\"\\\\Test\\\\Damaged\"\n",
    "                save_loc_Y=fig_path_2+\"Joint_\"+file_list_X[file_list_X.rfind('_')+1:-4]+\"\\\\Test\\\\Damaged\"\n",
    "                m.specgram(data_X.loc[i][0:4001],Fs=50)    \n",
    "                m.savefig(save_loc_X+\"\\\\\"+\"Spectrogram_X_\"+file_list_X[file_list_X.rfind('_')+1:-4]+\"_\"+str(i)+\".jpeg\")\n",
    "                m.specgram(data_X.loc[i][4001:8002],Fs=50)    \n",
    "                m.savefig(save_loc_Y+\"\\\\\"+\"Spectrogram_Y_\"+file_list_X[file_list_X.rfind('_')+1:-4]+\"_\"+str(i)+\".jpeg\")\n",
    "            else:\n",
    "                save_loc_X=fig_path_1+\"Joint_\"+file_list_X[file_list_X.rfind('_')+1:-4]+\"\\\\Test\\\\Undamaged\"\n",
    "                save_loc_Y=fig_path_2+\"Joint_\"+file_list_X[file_list_X.rfind('_')+1:-4]+\"\\\\Test\\\\Undamaged\"\n",
    "                m.specgram(data_X.loc[i][0:4001],Fs=50)\n",
    "                m.savefig(save_loc_X+\"\\\\\"+\"Spectrogram_X_\"+file_list_X[file_list_X.rfind('_')+1:-4]+\"_\"+str(i)+\".jpeg\")\n",
    "                m.specgram(data_X.loc[i][4001:8002],Fs=50)    \n",
    "                m.savefig(save_loc_Y+\"\\\\\"+\"Spectrogram_Y_\"+file_list_X[file_list_X.rfind('_')+1:-4]+\"_\"+str(i)+\".jpeg\")\n",
    "            "
   ]
  },
  {
   "cell_type": "code",
   "execution_count": null,
   "metadata": {},
   "outputs": [],
   "source": []
  }
 ],
 "metadata": {
  "kernelspec": {
   "display_name": "Python 3",
   "language": "python",
   "name": "python3"
  },
  "language_info": {
   "codemirror_mode": {
    "name": "ipython",
    "version": 3
   },
   "file_extension": ".py",
   "mimetype": "text/x-python",
   "name": "python",
   "nbconvert_exporter": "python",
   "pygments_lexer": "ipython3",
   "version": "3.7.1"
  }
 },
 "nbformat": 4,
 "nbformat_minor": 2
}
